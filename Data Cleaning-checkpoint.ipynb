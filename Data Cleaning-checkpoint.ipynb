{
 "cells": [
  {
   "cell_type": "markdown",
   "id": "96000485",
   "metadata": {},
   "source": [
    "File: Amazon Sale Report.csv\n",
    "\n",
    "Column name\t- Description\n",
    "\n",
    "Category -\tType of product. (String)\n",
    "\n",
    "Size -\tSize of the product. (String)\n",
    "\n",
    "Date -\tDate of the sale. (Date)\n",
    "\n",
    "Status -\tStatus of the sale. (String)\n",
    "\n",
    "Fulfilment -\tMethod of fulfilment. (String)\n",
    "\n",
    "Style -\tStyle of the product. (String)\n",
    "\n",
    "SKU -\tStock Keeping Unit. (String)\n",
    "\n",
    "ASIN -\tAmazon Standard Identification Number. (String)\n",
    "\n",
    "Courier Status -\tStatus of the courier. (String)\n",
    "\n",
    "Qty -\tQuantity of the product. (Integer)\n",
    "\n",
    "Amount -\tAmount of the sale. (Float)\n",
    "\n",
    "B2B -\tBusiness to business sale. (Boolean)\n",
    "\n",
    "Currency -\tThe currency used for the sale. (String)"
   ]
  },
  {
   "cell_type": "markdown",
   "id": "7a47f30c",
   "metadata": {
    "papermill": {
     "duration": 0.020482,
     "end_time": "2023-07-30T17:11:08.770191",
     "exception": false,
     "start_time": "2023-07-30T17:11:08.749709",
     "status": "completed"
    },
    "tags": []
   },
   "source": [
    "<h2>Importing Libraries </h2>"
   ]
  },
  {
   "cell_type": "code",
   "execution_count": 1,
   "id": "110fd42e",
   "metadata": {
    "execution": {
     "iopub.execute_input": "2023-07-30T17:11:08.814865Z",
     "iopub.status.busy": "2023-07-30T17:11:08.813719Z",
     "iopub.status.idle": "2023-07-30T17:11:09.847534Z",
     "shell.execute_reply": "2023-07-30T17:11:09.846384Z"
    },
    "papermill": {
     "duration": 1.060031,
     "end_time": "2023-07-30T17:11:09.850926",
     "exception": false,
     "start_time": "2023-07-30T17:11:08.790895",
     "status": "completed"
    },
    "tags": []
   },
   "outputs": [],
   "source": [
    "import pandas as pd\n",
    "import numpy as np\n",
    "import matplotlib.pyplot as plt\n",
    "import seaborn as sns"
   ]
  },
  {
   "cell_type": "markdown",
   "id": "5f4e98b6",
   "metadata": {
    "papermill": {
     "duration": 0.020234,
     "end_time": "2023-07-30T17:11:09.933649",
     "exception": false,
     "start_time": "2023-07-30T17:11:09.913415",
     "status": "completed"
    },
    "tags": []
   },
   "source": [
    "# Load the data"
   ]
  },
  {
   "cell_type": "code",
   "execution_count": 2,
   "id": "5a4b4c9a",
   "metadata": {
    "execution": {
     "iopub.execute_input": "2023-07-30T17:11:09.977420Z",
     "iopub.status.busy": "2023-07-30T17:11:09.976584Z",
     "iopub.status.idle": "2023-07-30T17:11:11.687409Z",
     "shell.execute_reply": "2023-07-30T17:11:11.685774Z"
    },
    "papermill": {
     "duration": 1.735687,
     "end_time": "2023-07-30T17:11:11.690081",
     "exception": false,
     "start_time": "2023-07-30T17:11:09.954394",
     "status": "completed"
    },
    "tags": []
   },
   "outputs": [
    {
     "name": "stderr",
     "output_type": "stream",
     "text": [
      "C:\\Users\\plcha\\AppData\\Local\\Temp\\ipykernel_17112\\2230152034.py:1: DtypeWarning: Columns (23) have mixed types. Specify dtype option on import or set low_memory=False.\n",
      "  amazon = pd.read_csv('Amazon Sale Report.csv')\n"
     ]
    },
    {
     "data": {
      "text/html": [
       "<div>\n",
       "<style scoped>\n",
       "    .dataframe tbody tr th:only-of-type {\n",
       "        vertical-align: middle;\n",
       "    }\n",
       "\n",
       "    .dataframe tbody tr th {\n",
       "        vertical-align: top;\n",
       "    }\n",
       "\n",
       "    .dataframe thead th {\n",
       "        text-align: right;\n",
       "    }\n",
       "</style>\n",
       "<table border=\"1\" class=\"dataframe\">\n",
       "  <thead>\n",
       "    <tr style=\"text-align: right;\">\n",
       "      <th></th>\n",
       "      <th>index</th>\n",
       "      <th>Order ID</th>\n",
       "      <th>Date</th>\n",
       "      <th>Status</th>\n",
       "      <th>Fulfilment</th>\n",
       "      <th>Sales Channel</th>\n",
       "      <th>ship-service-level</th>\n",
       "      <th>Style</th>\n",
       "      <th>SKU</th>\n",
       "      <th>Category</th>\n",
       "      <th>...</th>\n",
       "      <th>currency</th>\n",
       "      <th>Amount</th>\n",
       "      <th>ship-city</th>\n",
       "      <th>ship-state</th>\n",
       "      <th>ship-postal-code</th>\n",
       "      <th>ship-country</th>\n",
       "      <th>promotion-ids</th>\n",
       "      <th>B2B</th>\n",
       "      <th>fulfilled-by</th>\n",
       "      <th>Unnamed: 22</th>\n",
       "    </tr>\n",
       "  </thead>\n",
       "  <tbody>\n",
       "    <tr>\n",
       "      <th>0</th>\n",
       "      <td>0</td>\n",
       "      <td>405-8078784-5731545</td>\n",
       "      <td>04-30-22</td>\n",
       "      <td>Cancelled</td>\n",
       "      <td>Merchant</td>\n",
       "      <td>Amazon.in</td>\n",
       "      <td>Standard</td>\n",
       "      <td>SET389</td>\n",
       "      <td>SET389-KR-NP-S</td>\n",
       "      <td>Set</td>\n",
       "      <td>...</td>\n",
       "      <td>INR</td>\n",
       "      <td>647.62</td>\n",
       "      <td>MUMBAI</td>\n",
       "      <td>MAHARASHTRA</td>\n",
       "      <td>400081.0</td>\n",
       "      <td>IN</td>\n",
       "      <td>NaN</td>\n",
       "      <td>False</td>\n",
       "      <td>Easy Ship</td>\n",
       "      <td>NaN</td>\n",
       "    </tr>\n",
       "    <tr>\n",
       "      <th>1</th>\n",
       "      <td>1</td>\n",
       "      <td>171-9198151-1101146</td>\n",
       "      <td>04-30-22</td>\n",
       "      <td>Shipped - Delivered to Buyer</td>\n",
       "      <td>Merchant</td>\n",
       "      <td>Amazon.in</td>\n",
       "      <td>Standard</td>\n",
       "      <td>JNE3781</td>\n",
       "      <td>JNE3781-KR-XXXL</td>\n",
       "      <td>kurta</td>\n",
       "      <td>...</td>\n",
       "      <td>INR</td>\n",
       "      <td>406.00</td>\n",
       "      <td>BENGALURU</td>\n",
       "      <td>KARNATAKA</td>\n",
       "      <td>560085.0</td>\n",
       "      <td>IN</td>\n",
       "      <td>Amazon PLCC Free-Financing Universal Merchant ...</td>\n",
       "      <td>False</td>\n",
       "      <td>Easy Ship</td>\n",
       "      <td>NaN</td>\n",
       "    </tr>\n",
       "    <tr>\n",
       "      <th>2</th>\n",
       "      <td>2</td>\n",
       "      <td>404-0687676-7273146</td>\n",
       "      <td>04-30-22</td>\n",
       "      <td>Shipped</td>\n",
       "      <td>Amazon</td>\n",
       "      <td>Amazon.in</td>\n",
       "      <td>Expedited</td>\n",
       "      <td>JNE3371</td>\n",
       "      <td>JNE3371-KR-XL</td>\n",
       "      <td>kurta</td>\n",
       "      <td>...</td>\n",
       "      <td>INR</td>\n",
       "      <td>329.00</td>\n",
       "      <td>NAVI MUMBAI</td>\n",
       "      <td>MAHARASHTRA</td>\n",
       "      <td>410210.0</td>\n",
       "      <td>IN</td>\n",
       "      <td>IN Core Free Shipping 2015/04/08 23-48-5-108</td>\n",
       "      <td>True</td>\n",
       "      <td>NaN</td>\n",
       "      <td>NaN</td>\n",
       "    </tr>\n",
       "    <tr>\n",
       "      <th>3</th>\n",
       "      <td>3</td>\n",
       "      <td>403-9615377-8133951</td>\n",
       "      <td>04-30-22</td>\n",
       "      <td>Cancelled</td>\n",
       "      <td>Merchant</td>\n",
       "      <td>Amazon.in</td>\n",
       "      <td>Standard</td>\n",
       "      <td>J0341</td>\n",
       "      <td>J0341-DR-L</td>\n",
       "      <td>Western Dress</td>\n",
       "      <td>...</td>\n",
       "      <td>INR</td>\n",
       "      <td>753.33</td>\n",
       "      <td>PUDUCHERRY</td>\n",
       "      <td>PUDUCHERRY</td>\n",
       "      <td>605008.0</td>\n",
       "      <td>IN</td>\n",
       "      <td>NaN</td>\n",
       "      <td>False</td>\n",
       "      <td>Easy Ship</td>\n",
       "      <td>NaN</td>\n",
       "    </tr>\n",
       "    <tr>\n",
       "      <th>4</th>\n",
       "      <td>4</td>\n",
       "      <td>407-1069790-7240320</td>\n",
       "      <td>04-30-22</td>\n",
       "      <td>Shipped</td>\n",
       "      <td>Amazon</td>\n",
       "      <td>Amazon.in</td>\n",
       "      <td>Expedited</td>\n",
       "      <td>JNE3671</td>\n",
       "      <td>JNE3671-TU-XXXL</td>\n",
       "      <td>Top</td>\n",
       "      <td>...</td>\n",
       "      <td>INR</td>\n",
       "      <td>574.00</td>\n",
       "      <td>CHENNAI</td>\n",
       "      <td>TAMIL NADU</td>\n",
       "      <td>600073.0</td>\n",
       "      <td>IN</td>\n",
       "      <td>NaN</td>\n",
       "      <td>False</td>\n",
       "      <td>NaN</td>\n",
       "      <td>NaN</td>\n",
       "    </tr>\n",
       "  </tbody>\n",
       "</table>\n",
       "<p>5 rows × 24 columns</p>\n",
       "</div>"
      ],
      "text/plain": [
       "   index             Order ID      Date                        Status  \\\n",
       "0      0  405-8078784-5731545  04-30-22                     Cancelled   \n",
       "1      1  171-9198151-1101146  04-30-22  Shipped - Delivered to Buyer   \n",
       "2      2  404-0687676-7273146  04-30-22                       Shipped   \n",
       "3      3  403-9615377-8133951  04-30-22                     Cancelled   \n",
       "4      4  407-1069790-7240320  04-30-22                       Shipped   \n",
       "\n",
       "  Fulfilment Sales Channel  ship-service-level    Style              SKU  \\\n",
       "0   Merchant      Amazon.in           Standard   SET389   SET389-KR-NP-S   \n",
       "1   Merchant      Amazon.in           Standard  JNE3781  JNE3781-KR-XXXL   \n",
       "2     Amazon      Amazon.in          Expedited  JNE3371    JNE3371-KR-XL   \n",
       "3   Merchant      Amazon.in           Standard    J0341       J0341-DR-L   \n",
       "4     Amazon      Amazon.in          Expedited  JNE3671  JNE3671-TU-XXXL   \n",
       "\n",
       "        Category  ... currency  Amount    ship-city   ship-state  \\\n",
       "0            Set  ...      INR  647.62       MUMBAI  MAHARASHTRA   \n",
       "1          kurta  ...      INR  406.00    BENGALURU    KARNATAKA   \n",
       "2          kurta  ...      INR  329.00  NAVI MUMBAI  MAHARASHTRA   \n",
       "3  Western Dress  ...      INR  753.33   PUDUCHERRY   PUDUCHERRY   \n",
       "4            Top  ...      INR  574.00      CHENNAI   TAMIL NADU   \n",
       "\n",
       "  ship-postal-code  ship-country  \\\n",
       "0         400081.0            IN   \n",
       "1         560085.0            IN   \n",
       "2         410210.0            IN   \n",
       "3         605008.0            IN   \n",
       "4         600073.0            IN   \n",
       "\n",
       "                                       promotion-ids    B2B  fulfilled-by  \\\n",
       "0                                                NaN  False     Easy Ship   \n",
       "1  Amazon PLCC Free-Financing Universal Merchant ...  False     Easy Ship   \n",
       "2       IN Core Free Shipping 2015/04/08 23-48-5-108   True           NaN   \n",
       "3                                                NaN  False     Easy Ship   \n",
       "4                                                NaN  False           NaN   \n",
       "\n",
       "  Unnamed: 22  \n",
       "0         NaN  \n",
       "1         NaN  \n",
       "2         NaN  \n",
       "3         NaN  \n",
       "4         NaN  \n",
       "\n",
       "[5 rows x 24 columns]"
      ]
     },
     "execution_count": 2,
     "metadata": {},
     "output_type": "execute_result"
    }
   ],
   "source": [
    "amazon = pd.read_csv('Amazon Sale Report.csv')\n",
    "amazon.head(5)"
   ]
  },
  {
   "cell_type": "code",
   "execution_count": 3,
   "id": "cff60e82",
   "metadata": {
    "execution": {
     "iopub.execute_input": "2023-07-30T17:11:11.820200Z",
     "iopub.status.busy": "2023-07-30T17:11:11.819747Z",
     "iopub.status.idle": "2023-07-30T17:11:11.846771Z",
     "shell.execute_reply": "2023-07-30T17:11:11.845749Z"
    },
    "papermill": {
     "duration": 0.052267,
     "end_time": "2023-07-30T17:11:11.849410",
     "exception": false,
     "start_time": "2023-07-30T17:11:11.797143",
     "status": "completed"
    },
    "tags": []
   },
   "outputs": [
    {
     "data": {
      "text/html": [
       "<div>\n",
       "<style scoped>\n",
       "    .dataframe tbody tr th:only-of-type {\n",
       "        vertical-align: middle;\n",
       "    }\n",
       "\n",
       "    .dataframe tbody tr th {\n",
       "        vertical-align: top;\n",
       "    }\n",
       "\n",
       "    .dataframe thead th {\n",
       "        text-align: right;\n",
       "    }\n",
       "</style>\n",
       "<table border=\"1\" class=\"dataframe\">\n",
       "  <thead>\n",
       "    <tr style=\"text-align: right;\">\n",
       "      <th></th>\n",
       "      <th>index</th>\n",
       "      <th>Order ID</th>\n",
       "      <th>Date</th>\n",
       "      <th>Status</th>\n",
       "      <th>Fulfilment</th>\n",
       "      <th>Sales Channel</th>\n",
       "      <th>ship-service-level</th>\n",
       "      <th>Style</th>\n",
       "      <th>SKU</th>\n",
       "      <th>Category</th>\n",
       "      <th>...</th>\n",
       "      <th>currency</th>\n",
       "      <th>Amount</th>\n",
       "      <th>ship-city</th>\n",
       "      <th>ship-state</th>\n",
       "      <th>ship-postal-code</th>\n",
       "      <th>ship-country</th>\n",
       "      <th>promotion-ids</th>\n",
       "      <th>B2B</th>\n",
       "      <th>fulfilled-by</th>\n",
       "      <th>Unnamed: 22</th>\n",
       "    </tr>\n",
       "  </thead>\n",
       "  <tbody>\n",
       "    <tr>\n",
       "      <th>0</th>\n",
       "      <td>0</td>\n",
       "      <td>405-8078784-5731545</td>\n",
       "      <td>04-30-22</td>\n",
       "      <td>Cancelled</td>\n",
       "      <td>Merchant</td>\n",
       "      <td>Amazon.in</td>\n",
       "      <td>Standard</td>\n",
       "      <td>SET389</td>\n",
       "      <td>SET389-KR-NP-S</td>\n",
       "      <td>Set</td>\n",
       "      <td>...</td>\n",
       "      <td>INR</td>\n",
       "      <td>647.62</td>\n",
       "      <td>MUMBAI</td>\n",
       "      <td>MAHARASHTRA</td>\n",
       "      <td>400081.0</td>\n",
       "      <td>IN</td>\n",
       "      <td>NaN</td>\n",
       "      <td>False</td>\n",
       "      <td>Easy Ship</td>\n",
       "      <td>NaN</td>\n",
       "    </tr>\n",
       "    <tr>\n",
       "      <th>1</th>\n",
       "      <td>1</td>\n",
       "      <td>171-9198151-1101146</td>\n",
       "      <td>04-30-22</td>\n",
       "      <td>Shipped - Delivered to Buyer</td>\n",
       "      <td>Merchant</td>\n",
       "      <td>Amazon.in</td>\n",
       "      <td>Standard</td>\n",
       "      <td>JNE3781</td>\n",
       "      <td>JNE3781-KR-XXXL</td>\n",
       "      <td>kurta</td>\n",
       "      <td>...</td>\n",
       "      <td>INR</td>\n",
       "      <td>406.00</td>\n",
       "      <td>BENGALURU</td>\n",
       "      <td>KARNATAKA</td>\n",
       "      <td>560085.0</td>\n",
       "      <td>IN</td>\n",
       "      <td>Amazon PLCC Free-Financing Universal Merchant ...</td>\n",
       "      <td>False</td>\n",
       "      <td>Easy Ship</td>\n",
       "      <td>NaN</td>\n",
       "    </tr>\n",
       "    <tr>\n",
       "      <th>2</th>\n",
       "      <td>2</td>\n",
       "      <td>404-0687676-7273146</td>\n",
       "      <td>04-30-22</td>\n",
       "      <td>Shipped</td>\n",
       "      <td>Amazon</td>\n",
       "      <td>Amazon.in</td>\n",
       "      <td>Expedited</td>\n",
       "      <td>JNE3371</td>\n",
       "      <td>JNE3371-KR-XL</td>\n",
       "      <td>kurta</td>\n",
       "      <td>...</td>\n",
       "      <td>INR</td>\n",
       "      <td>329.00</td>\n",
       "      <td>NAVI MUMBAI</td>\n",
       "      <td>MAHARASHTRA</td>\n",
       "      <td>410210.0</td>\n",
       "      <td>IN</td>\n",
       "      <td>IN Core Free Shipping 2015/04/08 23-48-5-108</td>\n",
       "      <td>True</td>\n",
       "      <td>NaN</td>\n",
       "      <td>NaN</td>\n",
       "    </tr>\n",
       "    <tr>\n",
       "      <th>3</th>\n",
       "      <td>3</td>\n",
       "      <td>403-9615377-8133951</td>\n",
       "      <td>04-30-22</td>\n",
       "      <td>Cancelled</td>\n",
       "      <td>Merchant</td>\n",
       "      <td>Amazon.in</td>\n",
       "      <td>Standard</td>\n",
       "      <td>J0341</td>\n",
       "      <td>J0341-DR-L</td>\n",
       "      <td>Western Dress</td>\n",
       "      <td>...</td>\n",
       "      <td>INR</td>\n",
       "      <td>753.33</td>\n",
       "      <td>PUDUCHERRY</td>\n",
       "      <td>PUDUCHERRY</td>\n",
       "      <td>605008.0</td>\n",
       "      <td>IN</td>\n",
       "      <td>NaN</td>\n",
       "      <td>False</td>\n",
       "      <td>Easy Ship</td>\n",
       "      <td>NaN</td>\n",
       "    </tr>\n",
       "    <tr>\n",
       "      <th>4</th>\n",
       "      <td>4</td>\n",
       "      <td>407-1069790-7240320</td>\n",
       "      <td>04-30-22</td>\n",
       "      <td>Shipped</td>\n",
       "      <td>Amazon</td>\n",
       "      <td>Amazon.in</td>\n",
       "      <td>Expedited</td>\n",
       "      <td>JNE3671</td>\n",
       "      <td>JNE3671-TU-XXXL</td>\n",
       "      <td>Top</td>\n",
       "      <td>...</td>\n",
       "      <td>INR</td>\n",
       "      <td>574.00</td>\n",
       "      <td>CHENNAI</td>\n",
       "      <td>TAMIL NADU</td>\n",
       "      <td>600073.0</td>\n",
       "      <td>IN</td>\n",
       "      <td>NaN</td>\n",
       "      <td>False</td>\n",
       "      <td>NaN</td>\n",
       "      <td>NaN</td>\n",
       "    </tr>\n",
       "  </tbody>\n",
       "</table>\n",
       "<p>5 rows × 24 columns</p>\n",
       "</div>"
      ],
      "text/plain": [
       "   index             Order ID      Date                        Status  \\\n",
       "0      0  405-8078784-5731545  04-30-22                     Cancelled   \n",
       "1      1  171-9198151-1101146  04-30-22  Shipped - Delivered to Buyer   \n",
       "2      2  404-0687676-7273146  04-30-22                       Shipped   \n",
       "3      3  403-9615377-8133951  04-30-22                     Cancelled   \n",
       "4      4  407-1069790-7240320  04-30-22                       Shipped   \n",
       "\n",
       "  Fulfilment Sales Channel  ship-service-level    Style              SKU  \\\n",
       "0   Merchant      Amazon.in           Standard   SET389   SET389-KR-NP-S   \n",
       "1   Merchant      Amazon.in           Standard  JNE3781  JNE3781-KR-XXXL   \n",
       "2     Amazon      Amazon.in          Expedited  JNE3371    JNE3371-KR-XL   \n",
       "3   Merchant      Amazon.in           Standard    J0341       J0341-DR-L   \n",
       "4     Amazon      Amazon.in          Expedited  JNE3671  JNE3671-TU-XXXL   \n",
       "\n",
       "        Category  ... currency  Amount    ship-city   ship-state  \\\n",
       "0            Set  ...      INR  647.62       MUMBAI  MAHARASHTRA   \n",
       "1          kurta  ...      INR  406.00    BENGALURU    KARNATAKA   \n",
       "2          kurta  ...      INR  329.00  NAVI MUMBAI  MAHARASHTRA   \n",
       "3  Western Dress  ...      INR  753.33   PUDUCHERRY   PUDUCHERRY   \n",
       "4            Top  ...      INR  574.00      CHENNAI   TAMIL NADU   \n",
       "\n",
       "  ship-postal-code  ship-country  \\\n",
       "0         400081.0            IN   \n",
       "1         560085.0            IN   \n",
       "2         410210.0            IN   \n",
       "3         605008.0            IN   \n",
       "4         600073.0            IN   \n",
       "\n",
       "                                       promotion-ids    B2B  fulfilled-by  \\\n",
       "0                                                NaN  False     Easy Ship   \n",
       "1  Amazon PLCC Free-Financing Universal Merchant ...  False     Easy Ship   \n",
       "2       IN Core Free Shipping 2015/04/08 23-48-5-108   True           NaN   \n",
       "3                                                NaN  False     Easy Ship   \n",
       "4                                                NaN  False           NaN   \n",
       "\n",
       "  Unnamed: 22  \n",
       "0         NaN  \n",
       "1         NaN  \n",
       "2         NaN  \n",
       "3         NaN  \n",
       "4         NaN  \n",
       "\n",
       "[5 rows x 24 columns]"
      ]
     },
     "execution_count": 3,
     "metadata": {},
     "output_type": "execute_result"
    }
   ],
   "source": [
    "amazon.head(5)"
   ]
  },
  {
   "cell_type": "code",
   "execution_count": 4,
   "id": "fb0450fb",
   "metadata": {
    "execution": {
     "iopub.execute_input": "2023-07-30T17:11:12.057446Z",
     "iopub.status.busy": "2023-07-30T17:11:12.056635Z",
     "iopub.status.idle": "2023-07-30T17:11:12.064923Z",
     "shell.execute_reply": "2023-07-30T17:11:12.064062Z"
    },
    "papermill": {
     "duration": 0.034279,
     "end_time": "2023-07-30T17:11:12.067163",
     "exception": false,
     "start_time": "2023-07-30T17:11:12.032884",
     "status": "completed"
    },
    "tags": []
   },
   "outputs": [
    {
     "data": {
      "text/plain": [
       "Index(['index', 'Order ID', 'Date', 'Status', 'Fulfilment', 'Sales Channel ',\n",
       "       'ship-service-level', 'Style', 'SKU', 'Category', 'Size', 'ASIN',\n",
       "       'Courier Status', 'Qty', 'currency', 'Amount', 'ship-city',\n",
       "       'ship-state', 'ship-postal-code', 'ship-country', 'promotion-ids',\n",
       "       'B2B', 'fulfilled-by', 'Unnamed: 22'],\n",
       "      dtype='object')"
      ]
     },
     "execution_count": 4,
     "metadata": {},
     "output_type": "execute_result"
    }
   ],
   "source": [
    "amazon.columns"
   ]
  },
  {
   "cell_type": "markdown",
   "id": "373a9c48",
   "metadata": {
    "papermill": {
     "duration": 0.022038,
     "end_time": "2023-07-30T17:11:12.111702",
     "exception": false,
     "start_time": "2023-07-30T17:11:12.089664",
     "status": "completed"
    },
    "tags": []
   },
   "source": [
    "<h2>.shape shows the number of rows and columns in a dataset</h2>"
   ]
  },
  {
   "cell_type": "code",
   "execution_count": 5,
   "id": "4a473fdc",
   "metadata": {
    "execution": {
     "iopub.execute_input": "2023-07-30T17:11:12.158217Z",
     "iopub.status.busy": "2023-07-30T17:11:12.157794Z",
     "iopub.status.idle": "2023-07-30T17:11:12.164359Z",
     "shell.execute_reply": "2023-07-30T17:11:12.163290Z"
    },
    "papermill": {
     "duration": 0.032542,
     "end_time": "2023-07-30T17:11:12.166589",
     "exception": false,
     "start_time": "2023-07-30T17:11:12.134047",
     "status": "completed"
    },
    "tags": []
   },
   "outputs": [
    {
     "data": {
      "text/plain": [
       "(128975, 24)"
      ]
     },
     "execution_count": 5,
     "metadata": {},
     "output_type": "execute_result"
    }
   ],
   "source": [
    "amazon.shape"
   ]
  },
  {
   "cell_type": "markdown",
   "id": "ac5d900b",
   "metadata": {
    "papermill": {
     "duration": 0.021729,
     "end_time": "2023-07-30T17:11:12.210532",
     "exception": false,
     "start_time": "2023-07-30T17:11:12.188803",
     "status": "completed"
    },
    "tags": []
   },
   "source": [
    "# EDA"
   ]
  },
  {
   "cell_type": "code",
   "execution_count": 6,
   "id": "bd2eec8c",
   "metadata": {
    "execution": {
     "iopub.execute_input": "2023-07-30T17:11:12.300835Z",
     "iopub.status.busy": "2023-07-30T17:11:12.300421Z",
     "iopub.status.idle": "2023-07-30T17:11:12.450404Z",
     "shell.execute_reply": "2023-07-30T17:11:12.449525Z"
    },
    "papermill": {
     "duration": 0.176802,
     "end_time": "2023-07-30T17:11:12.453601",
     "exception": false,
     "start_time": "2023-07-30T17:11:12.276799",
     "status": "completed"
    },
    "tags": []
   },
   "outputs": [
    {
     "name": "stdout",
     "output_type": "stream",
     "text": [
      "<class 'pandas.core.frame.DataFrame'>\n",
      "RangeIndex: 128975 entries, 0 to 128974\n",
      "Data columns (total 24 columns):\n",
      " #   Column              Non-Null Count   Dtype  \n",
      "---  ------              --------------   -----  \n",
      " 0   index               128975 non-null  int64  \n",
      " 1   Order ID            128975 non-null  object \n",
      " 2   Date                128975 non-null  object \n",
      " 3   Status              128975 non-null  object \n",
      " 4   Fulfilment          128975 non-null  object \n",
      " 5   Sales Channel       128975 non-null  object \n",
      " 6   ship-service-level  128975 non-null  object \n",
      " 7   Style               128975 non-null  object \n",
      " 8   SKU                 128975 non-null  object \n",
      " 9   Category            128975 non-null  object \n",
      " 10  Size                128975 non-null  object \n",
      " 11  ASIN                128975 non-null  object \n",
      " 12  Courier Status      122103 non-null  object \n",
      " 13  Qty                 128975 non-null  int64  \n",
      " 14  currency            121180 non-null  object \n",
      " 15  Amount              121180 non-null  float64\n",
      " 16  ship-city           128942 non-null  object \n",
      " 17  ship-state          128942 non-null  object \n",
      " 18  ship-postal-code    128942 non-null  float64\n",
      " 19  ship-country        128942 non-null  object \n",
      " 20  promotion-ids       79822 non-null   object \n",
      " 21  B2B                 128975 non-null  bool   \n",
      " 22  fulfilled-by        39277 non-null   object \n",
      " 23  Unnamed: 22         79925 non-null   object \n",
      "dtypes: bool(1), float64(2), int64(2), object(19)\n",
      "memory usage: 22.8+ MB\n"
     ]
    }
   ],
   "source": [
    "#.info() command shows the datatypes and non-null values for each column in data set\n",
    "amazon.info()"
   ]
  },
  {
   "cell_type": "markdown",
   "id": "0c4aff9a",
   "metadata": {
    "papermill": {
     "duration": 0.022918,
     "end_time": "2023-07-30T17:11:12.909978",
     "exception": false,
     "start_time": "2023-07-30T17:11:12.887060",
     "status": "completed"
    },
    "tags": []
   },
   "source": [
    "# Check duplicates"
   ]
  },
  {
   "cell_type": "code",
   "execution_count": 7,
   "id": "29011934",
   "metadata": {
    "execution": {
     "iopub.execute_input": "2023-07-30T17:11:12.958179Z",
     "iopub.status.busy": "2023-07-30T17:11:12.957712Z",
     "iopub.status.idle": "2023-07-30T17:11:13.217800Z",
     "shell.execute_reply": "2023-07-30T17:11:13.216374Z"
    },
    "papermill": {
     "duration": 0.287109,
     "end_time": "2023-07-30T17:11:13.220264",
     "exception": false,
     "start_time": "2023-07-30T17:11:12.933155",
     "status": "completed"
    },
    "tags": []
   },
   "outputs": [
    {
     "name": "stdout",
     "output_type": "stream",
     "text": [
      "False    128975\n",
      "dtype: int64\n"
     ]
    }
   ],
   "source": [
    "print(amazon.duplicated().value_counts())"
   ]
  },
  {
   "cell_type": "markdown",
   "id": "9bf17ebf",
   "metadata": {
    "papermill": {
     "duration": 0.022891,
     "end_time": "2023-07-30T17:11:13.266443",
     "exception": false,
     "start_time": "2023-07-30T17:11:13.243552",
     "status": "completed"
    },
    "tags": []
   },
   "source": [
    "No duplicates rows were found in a dataset"
   ]
  },
  {
   "cell_type": "markdown",
   "id": "5542747b",
   "metadata": {
    "papermill": {
     "duration": 0.023005,
     "end_time": "2023-07-30T17:11:13.312911",
     "exception": false,
     "start_time": "2023-07-30T17:11:13.289906",
     "status": "completed"
    },
    "tags": []
   },
   "source": [
    "# Summary"
   ]
  },
  {
   "cell_type": "code",
   "execution_count": 8,
   "id": "3d7c921b",
   "metadata": {
    "execution": {
     "iopub.execute_input": "2023-07-30T17:11:13.361838Z",
     "iopub.status.busy": "2023-07-30T17:11:13.361052Z",
     "iopub.status.idle": "2023-07-30T17:11:13.407081Z",
     "shell.execute_reply": "2023-07-30T17:11:13.405957Z"
    },
    "papermill": {
     "duration": 0.073436,
     "end_time": "2023-07-30T17:11:13.409662",
     "exception": false,
     "start_time": "2023-07-30T17:11:13.336226",
     "status": "completed"
    },
    "tags": []
   },
   "outputs": [
    {
     "data": {
      "text/html": [
       "<div>\n",
       "<style scoped>\n",
       "    .dataframe tbody tr th:only-of-type {\n",
       "        vertical-align: middle;\n",
       "    }\n",
       "\n",
       "    .dataframe tbody tr th {\n",
       "        vertical-align: top;\n",
       "    }\n",
       "\n",
       "    .dataframe thead th {\n",
       "        text-align: right;\n",
       "    }\n",
       "</style>\n",
       "<table border=\"1\" class=\"dataframe\">\n",
       "  <thead>\n",
       "    <tr style=\"text-align: right;\">\n",
       "      <th></th>\n",
       "      <th>index</th>\n",
       "      <th>Qty</th>\n",
       "      <th>Amount</th>\n",
       "      <th>ship-postal-code</th>\n",
       "    </tr>\n",
       "  </thead>\n",
       "  <tbody>\n",
       "    <tr>\n",
       "      <th>count</th>\n",
       "      <td>128975.000000</td>\n",
       "      <td>128975.000000</td>\n",
       "      <td>121180.000000</td>\n",
       "      <td>128942.000000</td>\n",
       "    </tr>\n",
       "    <tr>\n",
       "      <th>mean</th>\n",
       "      <td>64487.000000</td>\n",
       "      <td>0.904431</td>\n",
       "      <td>648.561465</td>\n",
       "      <td>463966.236509</td>\n",
       "    </tr>\n",
       "    <tr>\n",
       "      <th>std</th>\n",
       "      <td>37232.019822</td>\n",
       "      <td>0.313354</td>\n",
       "      <td>281.211687</td>\n",
       "      <td>191476.764941</td>\n",
       "    </tr>\n",
       "    <tr>\n",
       "      <th>min</th>\n",
       "      <td>0.000000</td>\n",
       "      <td>0.000000</td>\n",
       "      <td>0.000000</td>\n",
       "      <td>110001.000000</td>\n",
       "    </tr>\n",
       "    <tr>\n",
       "      <th>25%</th>\n",
       "      <td>32243.500000</td>\n",
       "      <td>1.000000</td>\n",
       "      <td>449.000000</td>\n",
       "      <td>382421.000000</td>\n",
       "    </tr>\n",
       "    <tr>\n",
       "      <th>50%</th>\n",
       "      <td>64487.000000</td>\n",
       "      <td>1.000000</td>\n",
       "      <td>605.000000</td>\n",
       "      <td>500033.000000</td>\n",
       "    </tr>\n",
       "    <tr>\n",
       "      <th>75%</th>\n",
       "      <td>96730.500000</td>\n",
       "      <td>1.000000</td>\n",
       "      <td>788.000000</td>\n",
       "      <td>600024.000000</td>\n",
       "    </tr>\n",
       "    <tr>\n",
       "      <th>max</th>\n",
       "      <td>128974.000000</td>\n",
       "      <td>15.000000</td>\n",
       "      <td>5584.000000</td>\n",
       "      <td>989898.000000</td>\n",
       "    </tr>\n",
       "  </tbody>\n",
       "</table>\n",
       "</div>"
      ],
      "text/plain": [
       "               index            Qty         Amount  ship-postal-code\n",
       "count  128975.000000  128975.000000  121180.000000     128942.000000\n",
       "mean    64487.000000       0.904431     648.561465     463966.236509\n",
       "std     37232.019822       0.313354     281.211687     191476.764941\n",
       "min         0.000000       0.000000       0.000000     110001.000000\n",
       "25%     32243.500000       1.000000     449.000000     382421.000000\n",
       "50%     64487.000000       1.000000     605.000000     500033.000000\n",
       "75%     96730.500000       1.000000     788.000000     600024.000000\n",
       "max    128974.000000      15.000000    5584.000000     989898.000000"
      ]
     },
     "execution_count": 8,
     "metadata": {},
     "output_type": "execute_result"
    }
   ],
   "source": [
    "amazon.describe()"
   ]
  },
  {
   "cell_type": "markdown",
   "id": "9bd7f38e",
   "metadata": {
    "papermill": {
     "duration": 0.024212,
     "end_time": "2023-07-30T17:11:14.515551",
     "exception": false,
     "start_time": "2023-07-30T17:11:14.491339",
     "status": "completed"
    },
    "tags": []
   },
   "source": [
    "<p>The graphs of Amount and Qty illustrate from histogram plots that there are no outliners in dataset and those few minor data points are also valid.\n",
    "It is necessary to identify outliners in the dataframse as it can effect unaccurate results from analysis.</p>\n"
   ]
  },
  {
   "cell_type": "markdown",
   "id": "32471d6f",
   "metadata": {
    "papermill": {
     "duration": 0.024079,
     "end_time": "2023-07-30T17:11:14.563955",
     "exception": false,
     "start_time": "2023-07-30T17:11:14.539876",
     "status": "completed"
    },
    "tags": []
   },
   "source": [
    "# Null value check"
   ]
  },
  {
   "cell_type": "code",
   "execution_count": 9,
   "id": "1a92ee31",
   "metadata": {
    "execution": {
     "iopub.execute_input": "2023-07-30T17:11:14.749065Z",
     "iopub.status.busy": "2023-07-30T17:11:14.748635Z",
     "iopub.status.idle": "2023-07-30T17:11:14.878957Z",
     "shell.execute_reply": "2023-07-30T17:11:14.877947Z"
    },
    "papermill": {
     "duration": 0.159639,
     "end_time": "2023-07-30T17:11:14.881648",
     "exception": false,
     "start_time": "2023-07-30T17:11:14.722009",
     "status": "completed"
    },
    "tags": []
   },
   "outputs": [
    {
     "data": {
      "text/plain": [
       "index                     0\n",
       "Order ID                  0\n",
       "Date                      0\n",
       "Status                    0\n",
       "Fulfilment                0\n",
       "Sales Channel             0\n",
       "ship-service-level        0\n",
       "Style                     0\n",
       "SKU                       0\n",
       "Category                  0\n",
       "Size                      0\n",
       "ASIN                      0\n",
       "Courier Status         6872\n",
       "Qty                       0\n",
       "currency               7795\n",
       "Amount                 7795\n",
       "ship-city                33\n",
       "ship-state               33\n",
       "ship-postal-code         33\n",
       "ship-country             33\n",
       "promotion-ids         49153\n",
       "B2B                       0\n",
       "fulfilled-by          89698\n",
       "Unnamed: 22           49050\n",
       "dtype: int64"
      ]
     },
     "execution_count": 9,
     "metadata": {},
     "output_type": "execute_result"
    }
   ],
   "source": [
    "#Checking null values in entire dataset.\n",
    "amazon.isnull().sum()"
   ]
  },
  {
   "cell_type": "markdown",
   "id": "38dedb58",
   "metadata": {
    "papermill": {
     "duration": 0.024977,
     "end_time": "2023-07-30T17:11:15.082749",
     "exception": false,
     "start_time": "2023-07-30T17:11:15.057772",
     "status": "completed"
    },
    "tags": []
   },
   "source": [
    "<h2>Duplicates and Missing Data</h2>"
   ]
  },
  {
   "cell_type": "code",
   "execution_count": 10,
   "id": "3c5b70e1",
   "metadata": {
    "execution": {
     "iopub.execute_input": "2023-07-30T17:11:15.184688Z",
     "iopub.status.busy": "2023-07-30T17:11:15.183753Z",
     "iopub.status.idle": "2023-07-30T17:11:15.378910Z",
     "shell.execute_reply": "2023-07-30T17:11:15.377761Z"
    },
    "papermill": {
     "duration": 0.223724,
     "end_time": "2023-07-30T17:11:15.381340",
     "exception": false,
     "start_time": "2023-07-30T17:11:15.157616",
     "status": "completed"
    },
    "tags": []
   },
   "outputs": [
    {
     "data": {
      "text/plain": [
       "index                 128975\n",
       "Order ID              120378\n",
       "Date                      91\n",
       "Status                    13\n",
       "Fulfilment                 2\n",
       "Sales Channel              2\n",
       "ship-service-level         2\n",
       "Style                   1377\n",
       "SKU                     7195\n",
       "Category                   9\n",
       "Size                      11\n",
       "ASIN                    7190\n",
       "Courier Status             3\n",
       "Qty                       10\n",
       "currency                   1\n",
       "Amount                  1410\n",
       "ship-city               8955\n",
       "ship-state                69\n",
       "ship-postal-code        9459\n",
       "ship-country               1\n",
       "promotion-ids           5787\n",
       "B2B                        2\n",
       "fulfilled-by               1\n",
       "Unnamed: 22                1\n",
       "dtype: int64"
      ]
     },
     "execution_count": 10,
     "metadata": {},
     "output_type": "execute_result"
    }
   ],
   "source": [
    "amazon.nunique()"
   ]
  },
  {
   "cell_type": "code",
   "execution_count": 11,
   "id": "b6d7e150",
   "metadata": {
    "execution": {
     "iopub.execute_input": "2023-07-30T17:11:15.434274Z",
     "iopub.status.busy": "2023-07-30T17:11:15.433800Z",
     "iopub.status.idle": "2023-07-30T17:11:15.622445Z",
     "shell.execute_reply": "2023-07-30T17:11:15.621666Z"
    },
    "papermill": {
     "duration": 0.217642,
     "end_time": "2023-07-30T17:11:15.624601",
     "exception": false,
     "start_time": "2023-07-30T17:11:15.406959",
     "status": "completed"
    },
    "tags": []
   },
   "outputs": [
    {
     "data": {
      "text/plain": [
       "index                 [0, 1, 2, 3, 4, 5, 6, 7, 8, 9, 10, 11, 12, 13,...\n",
       "Order ID              [405-8078784-5731545, 171-9198151-1101146, 404...\n",
       "Date                  [04-30-22, 04-29-22, 04-28-22, 04-27-22, 04-26...\n",
       "Status                [Cancelled, Shipped - Delivered to Buyer, Ship...\n",
       "Fulfilment                                           [Merchant, Amazon]\n",
       "Sales Channel                                   [Amazon.in, Non-Amazon]\n",
       "ship-service-level                                [Standard, Expedited]\n",
       "Style                 [SET389, JNE3781, JNE3371, J0341, JNE3671, SET...\n",
       "SKU                   [SET389-KR-NP-S, JNE3781-KR-XXXL, JNE3371-KR-X...\n",
       "Category              [Set, kurta, Western Dress, Top, Ethnic Dress,...\n",
       "Size                   [S, 3XL, XL, L, XXL, XS, 6XL, M, 4XL, 5XL, Free]\n",
       "ASIN                  [B09KXVBD7Z, B09K3WFS32, B07WV4JV4D, B099NRCT7...\n",
       "Courier Status                     [nan, Shipped, Cancelled, Unshipped]\n",
       "Qty                                    [0, 1, 2, 15, 3, 9, 13, 5, 4, 8]\n",
       "currency                                                     [INR, nan]\n",
       "Amount                [647.62, 406.0, 329.0, 753.33, 574.0, 824.0, 6...\n",
       "ship-city             [MUMBAI, BENGALURU, NAVI MUMBAI, PUDUCHERRY, C...\n",
       "ship-state            [MAHARASHTRA, KARNATAKA, PUDUCHERRY, TAMIL NAD...\n",
       "ship-postal-code      [400081.0, 560085.0, 410210.0, 605008.0, 60007...\n",
       "ship-country                                                  [IN, nan]\n",
       "promotion-ids         [nan, Amazon PLCC Free-Financing Universal Mer...\n",
       "B2B                                                       [False, True]\n",
       "fulfilled-by                                           [Easy Ship, nan]\n",
       "Unnamed: 22                                                [nan, False]\n",
       "dtype: object"
      ]
     },
     "execution_count": 11,
     "metadata": {},
     "output_type": "execute_result"
    }
   ],
   "source": [
    "amazon.apply(pd.unique)"
   ]
  },
  {
   "cell_type": "code",
   "execution_count": 12,
   "id": "5c0fafcb",
   "metadata": {
    "execution": {
     "iopub.execute_input": "2023-07-30T17:11:15.678276Z",
     "iopub.status.busy": "2023-07-30T17:11:15.677339Z",
     "iopub.status.idle": "2023-07-30T17:11:15.682207Z",
     "shell.execute_reply": "2023-07-30T17:11:15.681449Z"
    },
    "papermill": {
     "duration": 0.034236,
     "end_time": "2023-07-30T17:11:15.684299",
     "exception": false,
     "start_time": "2023-07-30T17:11:15.650063",
     "status": "completed"
    },
    "tags": []
   },
   "outputs": [
    {
     "name": "stdout",
     "output_type": "stream",
     "text": [
      "128975\n"
     ]
    }
   ],
   "source": [
    "before_remove_duplicates = len(amazon)\n",
    "print(before_remove_duplicates)"
   ]
  },
  {
   "cell_type": "code",
   "execution_count": 13,
   "id": "6013b67a",
   "metadata": {
    "execution": {
     "iopub.execute_input": "2023-07-30T17:11:15.739004Z",
     "iopub.status.busy": "2023-07-30T17:11:15.738366Z",
     "iopub.status.idle": "2023-07-30T17:11:16.033426Z",
     "shell.execute_reply": "2023-07-30T17:11:16.032106Z"
    },
    "papermill": {
     "duration": 0.325347,
     "end_time": "2023-07-30T17:11:16.035885",
     "exception": false,
     "start_time": "2023-07-30T17:11:15.710538",
     "status": "completed"
    },
    "tags": []
   },
   "outputs": [
    {
     "name": "stdout",
     "output_type": "stream",
     "text": [
      "None\n"
     ]
    }
   ],
   "source": [
    "x = amazon.drop_duplicates(inplace = True)\n",
    "print(x)"
   ]
  },
  {
   "cell_type": "markdown",
   "id": "3dfcccd4",
   "metadata": {
    "papermill": {
     "duration": 0.024694,
     "end_time": "2023-07-30T17:11:16.148412",
     "exception": false,
     "start_time": "2023-07-30T17:11:16.123718",
     "status": "completed"
    },
    "tags": []
   },
   "source": [
    "# Missing value treatment"
   ]
  },
  {
   "cell_type": "markdown",
   "id": "7af4fa7e",
   "metadata": {
    "papermill": {
     "duration": 0.024532,
     "end_time": "2023-07-30T17:11:16.197885",
     "exception": false,
     "start_time": "2023-07-30T17:11:16.173353",
     "status": "completed"
    },
    "tags": []
   },
   "source": [
    "<h2>Dropping Missing Values</h2>\n",
    "\n",
    "<h2>Fill missing values with .fillna()</h2>\n",
    "<ol>\n",
    "    <li>Fill with provided value</li>\n",
    "    <li>Use a summary statistic</li>\n",
    "</ol>"
   ]
  },
  {
   "cell_type": "code",
   "execution_count": 14,
   "id": "bb453ac7",
   "metadata": {
    "execution": {
     "iopub.execute_input": "2023-07-30T17:11:16.250319Z",
     "iopub.status.busy": "2023-07-30T17:11:16.249842Z",
     "iopub.status.idle": "2023-07-30T17:11:16.258502Z",
     "shell.execute_reply": "2023-07-30T17:11:16.257611Z"
    },
    "papermill": {
     "duration": 0.03782,
     "end_time": "2023-07-30T17:11:16.260703",
     "exception": false,
     "start_time": "2023-07-30T17:11:16.222883",
     "status": "completed"
    },
    "tags": []
   },
   "outputs": [
    {
     "data": {
      "text/plain": [
       "7795"
      ]
     },
     "execution_count": 14,
     "metadata": {},
     "output_type": "execute_result"
    }
   ],
   "source": [
    "#Count missing values of eack columns\n",
    "amount_null_value = amazon['Amount'].isnull().sum()\n",
    "amount_null_value"
   ]
  },
  {
   "cell_type": "code",
   "execution_count": 15,
   "id": "e93eeb79",
   "metadata": {
    "execution": {
     "iopub.execute_input": "2023-07-30T17:11:16.314368Z",
     "iopub.status.busy": "2023-07-30T17:11:16.313454Z",
     "iopub.status.idle": "2023-07-30T17:11:16.319675Z",
     "shell.execute_reply": "2023-07-30T17:11:16.318617Z"
    },
    "papermill": {
     "duration": 0.035675,
     "end_time": "2023-07-30T17:11:16.321979",
     "exception": false,
     "start_time": "2023-07-30T17:11:16.286304",
     "status": "completed"
    },
    "tags": []
   },
   "outputs": [],
   "source": [
    "amazon['Amount'].fillna(0, inplace = True)"
   ]
  },
  {
   "cell_type": "code",
   "execution_count": 16,
   "id": "17f7adb0",
   "metadata": {
    "execution": {
     "iopub.execute_input": "2023-07-30T17:11:16.374591Z",
     "iopub.status.busy": "2023-07-30T17:11:16.374153Z",
     "iopub.status.idle": "2023-07-30T17:11:16.389512Z",
     "shell.execute_reply": "2023-07-30T17:11:16.388410Z"
    },
    "papermill": {
     "duration": 0.044361,
     "end_time": "2023-07-30T17:11:16.391730",
     "exception": false,
     "start_time": "2023-07-30T17:11:16.347369",
     "status": "completed"
    },
    "tags": []
   },
   "outputs": [],
   "source": [
    "amazon['promotion-ids'].fillna('no promotion', inplace = True)"
   ]
  },
  {
   "cell_type": "code",
   "execution_count": 17,
   "id": "5daa871e",
   "metadata": {
    "execution": {
     "iopub.execute_input": "2023-07-30T17:11:16.444443Z",
     "iopub.status.busy": "2023-07-30T17:11:16.443961Z",
     "iopub.status.idle": "2023-07-30T17:11:16.484801Z",
     "shell.execute_reply": "2023-07-30T17:11:16.483582Z"
    },
    "papermill": {
     "duration": 0.070392,
     "end_time": "2023-07-30T17:11:16.487529",
     "exception": false,
     "start_time": "2023-07-30T17:11:16.417137",
     "status": "completed"
    },
    "tags": []
   },
   "outputs": [],
   "source": [
    "amazon['Courier Status'].fillna('unknown', inplace = True)\n",
    "amazon['ship-city'].fillna('unknown', inplace = True)\n",
    "amazon['ship-state'].fillna('unknown', inplace = True)\n",
    "amazon['ship-postal-code'].fillna('unknown', inplace = True)"
   ]
  },
  {
   "cell_type": "code",
   "execution_count": 18,
   "id": "3ede8c79",
   "metadata": {
    "execution": {
     "iopub.execute_input": "2023-07-30T17:11:16.540037Z",
     "iopub.status.busy": "2023-07-30T17:11:16.539585Z",
     "iopub.status.idle": "2023-07-30T17:11:16.679566Z",
     "shell.execute_reply": "2023-07-30T17:11:16.678583Z"
    },
    "papermill": {
     "duration": 0.169359,
     "end_time": "2023-07-30T17:11:16.682339",
     "exception": false,
     "start_time": "2023-07-30T17:11:16.512980",
     "status": "completed"
    },
    "tags": []
   },
   "outputs": [],
   "source": [
    "amazon.drop(columns = ['Unnamed: 22','fulfilled-by','ship-country', 'currency','Sales Channel '], inplace = True)"
   ]
  },
  {
   "cell_type": "code",
   "execution_count": 19,
   "id": "60302c86",
   "metadata": {
    "execution": {
     "iopub.execute_input": "2023-07-30T17:11:16.787441Z",
     "iopub.status.busy": "2023-07-30T17:11:16.786980Z",
     "iopub.status.idle": "2023-07-30T17:11:16.812573Z",
     "shell.execute_reply": "2023-07-30T17:11:16.811023Z"
    },
    "papermill": {
     "duration": 0.054947,
     "end_time": "2023-07-30T17:11:16.814886",
     "exception": false,
     "start_time": "2023-07-30T17:11:16.759939",
     "status": "completed"
    },
    "tags": []
   },
   "outputs": [
    {
     "data": {
      "text/html": [
       "<div>\n",
       "<style scoped>\n",
       "    .dataframe tbody tr th:only-of-type {\n",
       "        vertical-align: middle;\n",
       "    }\n",
       "\n",
       "    .dataframe tbody tr th {\n",
       "        vertical-align: top;\n",
       "    }\n",
       "\n",
       "    .dataframe thead th {\n",
       "        text-align: right;\n",
       "    }\n",
       "</style>\n",
       "<table border=\"1\" class=\"dataframe\">\n",
       "  <thead>\n",
       "    <tr style=\"text-align: right;\">\n",
       "      <th></th>\n",
       "      <th>index</th>\n",
       "      <th>orderID</th>\n",
       "      <th>date</th>\n",
       "      <th>shipStatus</th>\n",
       "      <th>Fulfilment</th>\n",
       "      <th>serviceLevel</th>\n",
       "      <th>style</th>\n",
       "      <th>sku</th>\n",
       "      <th>productCategory</th>\n",
       "      <th>size</th>\n",
       "      <th>asin</th>\n",
       "      <th>courierStatus</th>\n",
       "      <th>orderQuantity</th>\n",
       "      <th>orderAmount (INR)</th>\n",
       "      <th>city</th>\n",
       "      <th>state</th>\n",
       "      <th>zip</th>\n",
       "      <th>promotion</th>\n",
       "      <th>customerType</th>\n",
       "    </tr>\n",
       "  </thead>\n",
       "  <tbody>\n",
       "    <tr>\n",
       "      <th>0</th>\n",
       "      <td>0</td>\n",
       "      <td>405-8078784-5731545</td>\n",
       "      <td>04-30-22</td>\n",
       "      <td>Cancelled</td>\n",
       "      <td>Merchant</td>\n",
       "      <td>Standard</td>\n",
       "      <td>SET389</td>\n",
       "      <td>SET389-KR-NP-S</td>\n",
       "      <td>Set</td>\n",
       "      <td>S</td>\n",
       "      <td>B09KXVBD7Z</td>\n",
       "      <td>unknown</td>\n",
       "      <td>0</td>\n",
       "      <td>647.62</td>\n",
       "      <td>MUMBAI</td>\n",
       "      <td>MAHARASHTRA</td>\n",
       "      <td>400081.0</td>\n",
       "      <td>no promotion</td>\n",
       "      <td>False</td>\n",
       "    </tr>\n",
       "    <tr>\n",
       "      <th>1</th>\n",
       "      <td>1</td>\n",
       "      <td>171-9198151-1101146</td>\n",
       "      <td>04-30-22</td>\n",
       "      <td>Shipped - Delivered to Buyer</td>\n",
       "      <td>Merchant</td>\n",
       "      <td>Standard</td>\n",
       "      <td>JNE3781</td>\n",
       "      <td>JNE3781-KR-XXXL</td>\n",
       "      <td>kurta</td>\n",
       "      <td>3XL</td>\n",
       "      <td>B09K3WFS32</td>\n",
       "      <td>Shipped</td>\n",
       "      <td>1</td>\n",
       "      <td>406.00</td>\n",
       "      <td>BENGALURU</td>\n",
       "      <td>KARNATAKA</td>\n",
       "      <td>560085.0</td>\n",
       "      <td>Amazon PLCC Free-Financing Universal Merchant ...</td>\n",
       "      <td>False</td>\n",
       "    </tr>\n",
       "    <tr>\n",
       "      <th>2</th>\n",
       "      <td>2</td>\n",
       "      <td>404-0687676-7273146</td>\n",
       "      <td>04-30-22</td>\n",
       "      <td>Shipped</td>\n",
       "      <td>Amazon</td>\n",
       "      <td>Expedited</td>\n",
       "      <td>JNE3371</td>\n",
       "      <td>JNE3371-KR-XL</td>\n",
       "      <td>kurta</td>\n",
       "      <td>XL</td>\n",
       "      <td>B07WV4JV4D</td>\n",
       "      <td>Shipped</td>\n",
       "      <td>1</td>\n",
       "      <td>329.00</td>\n",
       "      <td>NAVI MUMBAI</td>\n",
       "      <td>MAHARASHTRA</td>\n",
       "      <td>410210.0</td>\n",
       "      <td>IN Core Free Shipping 2015/04/08 23-48-5-108</td>\n",
       "      <td>True</td>\n",
       "    </tr>\n",
       "    <tr>\n",
       "      <th>3</th>\n",
       "      <td>3</td>\n",
       "      <td>403-9615377-8133951</td>\n",
       "      <td>04-30-22</td>\n",
       "      <td>Cancelled</td>\n",
       "      <td>Merchant</td>\n",
       "      <td>Standard</td>\n",
       "      <td>J0341</td>\n",
       "      <td>J0341-DR-L</td>\n",
       "      <td>Western Dress</td>\n",
       "      <td>L</td>\n",
       "      <td>B099NRCT7B</td>\n",
       "      <td>unknown</td>\n",
       "      <td>0</td>\n",
       "      <td>753.33</td>\n",
       "      <td>PUDUCHERRY</td>\n",
       "      <td>PUDUCHERRY</td>\n",
       "      <td>605008.0</td>\n",
       "      <td>no promotion</td>\n",
       "      <td>False</td>\n",
       "    </tr>\n",
       "    <tr>\n",
       "      <th>4</th>\n",
       "      <td>4</td>\n",
       "      <td>407-1069790-7240320</td>\n",
       "      <td>04-30-22</td>\n",
       "      <td>Shipped</td>\n",
       "      <td>Amazon</td>\n",
       "      <td>Expedited</td>\n",
       "      <td>JNE3671</td>\n",
       "      <td>JNE3671-TU-XXXL</td>\n",
       "      <td>Top</td>\n",
       "      <td>3XL</td>\n",
       "      <td>B098714BZP</td>\n",
       "      <td>Shipped</td>\n",
       "      <td>1</td>\n",
       "      <td>574.00</td>\n",
       "      <td>CHENNAI</td>\n",
       "      <td>TAMIL NADU</td>\n",
       "      <td>600073.0</td>\n",
       "      <td>no promotion</td>\n",
       "      <td>False</td>\n",
       "    </tr>\n",
       "  </tbody>\n",
       "</table>\n",
       "</div>"
      ],
      "text/plain": [
       "   index              orderID      date                    shipStatus  \\\n",
       "0      0  405-8078784-5731545  04-30-22                     Cancelled   \n",
       "1      1  171-9198151-1101146  04-30-22  Shipped - Delivered to Buyer   \n",
       "2      2  404-0687676-7273146  04-30-22                       Shipped   \n",
       "3      3  403-9615377-8133951  04-30-22                     Cancelled   \n",
       "4      4  407-1069790-7240320  04-30-22                       Shipped   \n",
       "\n",
       "  Fulfilment serviceLevel    style              sku productCategory size  \\\n",
       "0   Merchant     Standard   SET389   SET389-KR-NP-S             Set    S   \n",
       "1   Merchant     Standard  JNE3781  JNE3781-KR-XXXL           kurta  3XL   \n",
       "2     Amazon    Expedited  JNE3371    JNE3371-KR-XL           kurta   XL   \n",
       "3   Merchant     Standard    J0341       J0341-DR-L   Western Dress    L   \n",
       "4     Amazon    Expedited  JNE3671  JNE3671-TU-XXXL             Top  3XL   \n",
       "\n",
       "         asin courierStatus  orderQuantity  orderAmount (INR)         city  \\\n",
       "0  B09KXVBD7Z       unknown              0             647.62       MUMBAI   \n",
       "1  B09K3WFS32       Shipped              1             406.00    BENGALURU   \n",
       "2  B07WV4JV4D       Shipped              1             329.00  NAVI MUMBAI   \n",
       "3  B099NRCT7B       unknown              0             753.33   PUDUCHERRY   \n",
       "4  B098714BZP       Shipped              1             574.00      CHENNAI   \n",
       "\n",
       "         state       zip                                          promotion  \\\n",
       "0  MAHARASHTRA  400081.0                                       no promotion   \n",
       "1    KARNATAKA  560085.0  Amazon PLCC Free-Financing Universal Merchant ...   \n",
       "2  MAHARASHTRA  410210.0       IN Core Free Shipping 2015/04/08 23-48-5-108   \n",
       "3   PUDUCHERRY  605008.0                                       no promotion   \n",
       "4   TAMIL NADU  600073.0                                       no promotion   \n",
       "\n",
       "   customerType  \n",
       "0         False  \n",
       "1         False  \n",
       "2          True  \n",
       "3         False  \n",
       "4         False  "
      ]
     },
     "execution_count": 19,
     "metadata": {},
     "output_type": "execute_result"
    }
   ],
   "source": [
    "mapper = {'Order ID':'orderID', 'Date':'date', 'Status':'shipStatus','Fullfilment':'fullfilment', 'ship-service-level':'serviceLevel', 'Style':'style', 'SKU':'sku', 'Category':'productCategory', 'Size':'size', 'ASIN':'asin', 'Courier Status':'courierStatus', 'Qty':'orderQuantity', 'Amount':'orderAmount (INR)', 'ship-city':'city', 'ship-state':'state', 'ship-postal-code':'zip', 'promotion-ids':'promotion','B2B':'customerType' }\n",
    "amazon.rename(columns = mapper, inplace = True)\n",
    "amazon.head()"
   ]
  },
  {
   "cell_type": "code",
   "execution_count": 20,
   "id": "473f7b59",
   "metadata": {
    "execution": {
     "iopub.execute_input": "2023-07-30T17:11:16.868665Z",
     "iopub.status.busy": "2023-07-30T17:11:16.868205Z",
     "iopub.status.idle": "2023-07-30T17:11:16.894901Z",
     "shell.execute_reply": "2023-07-30T17:11:16.893769Z"
    },
    "papermill": {
     "duration": 0.056302,
     "end_time": "2023-07-30T17:11:16.897240",
     "exception": false,
     "start_time": "2023-07-30T17:11:16.840938",
     "status": "completed"
    },
    "tags": []
   },
   "outputs": [
    {
     "data": {
      "text/html": [
       "<div>\n",
       "<style scoped>\n",
       "    .dataframe tbody tr th:only-of-type {\n",
       "        vertical-align: middle;\n",
       "    }\n",
       "\n",
       "    .dataframe tbody tr th {\n",
       "        vertical-align: top;\n",
       "    }\n",
       "\n",
       "    .dataframe thead th {\n",
       "        text-align: right;\n",
       "    }\n",
       "</style>\n",
       "<table border=\"1\" class=\"dataframe\">\n",
       "  <thead>\n",
       "    <tr style=\"text-align: right;\">\n",
       "      <th></th>\n",
       "      <th>index</th>\n",
       "      <th>orderID</th>\n",
       "      <th>date</th>\n",
       "      <th>shipStatus</th>\n",
       "      <th>Fulfilment</th>\n",
       "      <th>serviceLevel</th>\n",
       "      <th>style</th>\n",
       "      <th>sku</th>\n",
       "      <th>productCategory</th>\n",
       "      <th>size</th>\n",
       "      <th>asin</th>\n",
       "      <th>courierStatus</th>\n",
       "      <th>orderQuantity</th>\n",
       "      <th>orderAmount (INR)</th>\n",
       "      <th>city</th>\n",
       "      <th>state</th>\n",
       "      <th>zip</th>\n",
       "      <th>promotion</th>\n",
       "      <th>customerType</th>\n",
       "    </tr>\n",
       "  </thead>\n",
       "  <tbody>\n",
       "    <tr>\n",
       "      <th>0</th>\n",
       "      <td>0</td>\n",
       "      <td>405-8078784-5731545</td>\n",
       "      <td>04-30-22</td>\n",
       "      <td>Cancelled</td>\n",
       "      <td>Merchant</td>\n",
       "      <td>Standard</td>\n",
       "      <td>SET389</td>\n",
       "      <td>SET389-KR-NP-S</td>\n",
       "      <td>Set</td>\n",
       "      <td>S</td>\n",
       "      <td>B09KXVBD7Z</td>\n",
       "      <td>unknown</td>\n",
       "      <td>0</td>\n",
       "      <td>647.62</td>\n",
       "      <td>MUMBAI</td>\n",
       "      <td>MAHARASHTRA</td>\n",
       "      <td>400081.0</td>\n",
       "      <td>no promotion</td>\n",
       "      <td>consumer</td>\n",
       "    </tr>\n",
       "    <tr>\n",
       "      <th>1</th>\n",
       "      <td>1</td>\n",
       "      <td>171-9198151-1101146</td>\n",
       "      <td>04-30-22</td>\n",
       "      <td>Shipped - Delivered to Buyer</td>\n",
       "      <td>Merchant</td>\n",
       "      <td>Standard</td>\n",
       "      <td>JNE3781</td>\n",
       "      <td>JNE3781-KR-XXXL</td>\n",
       "      <td>kurta</td>\n",
       "      <td>3XL</td>\n",
       "      <td>B09K3WFS32</td>\n",
       "      <td>Shipped</td>\n",
       "      <td>1</td>\n",
       "      <td>406.00</td>\n",
       "      <td>BENGALURU</td>\n",
       "      <td>KARNATAKA</td>\n",
       "      <td>560085.0</td>\n",
       "      <td>Amazon PLCC Free-Financing Universal Merchant ...</td>\n",
       "      <td>consumer</td>\n",
       "    </tr>\n",
       "    <tr>\n",
       "      <th>2</th>\n",
       "      <td>2</td>\n",
       "      <td>404-0687676-7273146</td>\n",
       "      <td>04-30-22</td>\n",
       "      <td>Shipped</td>\n",
       "      <td>Amazon</td>\n",
       "      <td>Expedited</td>\n",
       "      <td>JNE3371</td>\n",
       "      <td>JNE3371-KR-XL</td>\n",
       "      <td>kurta</td>\n",
       "      <td>XL</td>\n",
       "      <td>B07WV4JV4D</td>\n",
       "      <td>Shipped</td>\n",
       "      <td>1</td>\n",
       "      <td>329.00</td>\n",
       "      <td>NAVI MUMBAI</td>\n",
       "      <td>MAHARASHTRA</td>\n",
       "      <td>410210.0</td>\n",
       "      <td>IN Core Free Shipping 2015/04/08 23-48-5-108</td>\n",
       "      <td>business</td>\n",
       "    </tr>\n",
       "    <tr>\n",
       "      <th>3</th>\n",
       "      <td>3</td>\n",
       "      <td>403-9615377-8133951</td>\n",
       "      <td>04-30-22</td>\n",
       "      <td>Cancelled</td>\n",
       "      <td>Merchant</td>\n",
       "      <td>Standard</td>\n",
       "      <td>J0341</td>\n",
       "      <td>J0341-DR-L</td>\n",
       "      <td>Western Dress</td>\n",
       "      <td>L</td>\n",
       "      <td>B099NRCT7B</td>\n",
       "      <td>unknown</td>\n",
       "      <td>0</td>\n",
       "      <td>753.33</td>\n",
       "      <td>PUDUCHERRY</td>\n",
       "      <td>PUDUCHERRY</td>\n",
       "      <td>605008.0</td>\n",
       "      <td>no promotion</td>\n",
       "      <td>consumer</td>\n",
       "    </tr>\n",
       "    <tr>\n",
       "      <th>4</th>\n",
       "      <td>4</td>\n",
       "      <td>407-1069790-7240320</td>\n",
       "      <td>04-30-22</td>\n",
       "      <td>Shipped</td>\n",
       "      <td>Amazon</td>\n",
       "      <td>Expedited</td>\n",
       "      <td>JNE3671</td>\n",
       "      <td>JNE3671-TU-XXXL</td>\n",
       "      <td>Top</td>\n",
       "      <td>3XL</td>\n",
       "      <td>B098714BZP</td>\n",
       "      <td>Shipped</td>\n",
       "      <td>1</td>\n",
       "      <td>574.00</td>\n",
       "      <td>CHENNAI</td>\n",
       "      <td>TAMIL NADU</td>\n",
       "      <td>600073.0</td>\n",
       "      <td>no promotion</td>\n",
       "      <td>consumer</td>\n",
       "    </tr>\n",
       "  </tbody>\n",
       "</table>\n",
       "</div>"
      ],
      "text/plain": [
       "   index              orderID      date                    shipStatus  \\\n",
       "0      0  405-8078784-5731545  04-30-22                     Cancelled   \n",
       "1      1  171-9198151-1101146  04-30-22  Shipped - Delivered to Buyer   \n",
       "2      2  404-0687676-7273146  04-30-22                       Shipped   \n",
       "3      3  403-9615377-8133951  04-30-22                     Cancelled   \n",
       "4      4  407-1069790-7240320  04-30-22                       Shipped   \n",
       "\n",
       "  Fulfilment serviceLevel    style              sku productCategory size  \\\n",
       "0   Merchant     Standard   SET389   SET389-KR-NP-S             Set    S   \n",
       "1   Merchant     Standard  JNE3781  JNE3781-KR-XXXL           kurta  3XL   \n",
       "2     Amazon    Expedited  JNE3371    JNE3371-KR-XL           kurta   XL   \n",
       "3   Merchant     Standard    J0341       J0341-DR-L   Western Dress    L   \n",
       "4     Amazon    Expedited  JNE3671  JNE3671-TU-XXXL             Top  3XL   \n",
       "\n",
       "         asin courierStatus  orderQuantity  orderAmount (INR)         city  \\\n",
       "0  B09KXVBD7Z       unknown              0             647.62       MUMBAI   \n",
       "1  B09K3WFS32       Shipped              1             406.00    BENGALURU   \n",
       "2  B07WV4JV4D       Shipped              1             329.00  NAVI MUMBAI   \n",
       "3  B099NRCT7B       unknown              0             753.33   PUDUCHERRY   \n",
       "4  B098714BZP       Shipped              1             574.00      CHENNAI   \n",
       "\n",
       "         state       zip                                          promotion  \\\n",
       "0  MAHARASHTRA  400081.0                                       no promotion   \n",
       "1    KARNATAKA  560085.0  Amazon PLCC Free-Financing Universal Merchant ...   \n",
       "2  MAHARASHTRA  410210.0       IN Core Free Shipping 2015/04/08 23-48-5-108   \n",
       "3   PUDUCHERRY  605008.0                                       no promotion   \n",
       "4   TAMIL NADU  600073.0                                       no promotion   \n",
       "\n",
       "  customerType  \n",
       "0     consumer  \n",
       "1     consumer  \n",
       "2     business  \n",
       "3     consumer  \n",
       "4     consumer  "
      ]
     },
     "execution_count": 20,
     "metadata": {},
     "output_type": "execute_result"
    }
   ],
   "source": [
    "amazon['customerType'].replace([True, False], ['business', 'consumer'], inplace = True)\n",
    "amazon.head()"
   ]
  },
  {
   "cell_type": "markdown",
   "id": "90a4b82f",
   "metadata": {
    "papermill": {
     "duration": 0.026008,
     "end_time": "2023-07-30T17:11:16.949655",
     "exception": false,
     "start_time": "2023-07-30T17:11:16.923647",
     "status": "completed"
    },
    "tags": []
   },
   "source": [
    "<h2>Cheking the null values in data set</h2>"
   ]
  },
  {
   "cell_type": "code",
   "execution_count": 21,
   "id": "0ac1e34f",
   "metadata": {
    "execution": {
     "iopub.execute_input": "2023-07-30T17:11:17.004451Z",
     "iopub.status.busy": "2023-07-30T17:11:17.003733Z",
     "iopub.status.idle": "2023-07-30T17:11:17.186059Z",
     "shell.execute_reply": "2023-07-30T17:11:17.185244Z"
    },
    "papermill": {
     "duration": 0.212416,
     "end_time": "2023-07-30T17:11:17.188402",
     "exception": false,
     "start_time": "2023-07-30T17:11:16.975986",
     "status": "completed"
    },
    "tags": []
   },
   "outputs": [
    {
     "data": {
      "text/html": [
       "<div>\n",
       "<style scoped>\n",
       "    .dataframe tbody tr th:only-of-type {\n",
       "        vertical-align: middle;\n",
       "    }\n",
       "\n",
       "    .dataframe tbody tr th {\n",
       "        vertical-align: top;\n",
       "    }\n",
       "\n",
       "    .dataframe thead th {\n",
       "        text-align: right;\n",
       "    }\n",
       "</style>\n",
       "<table border=\"1\" class=\"dataframe\">\n",
       "  <thead>\n",
       "    <tr style=\"text-align: right;\">\n",
       "      <th></th>\n",
       "      <th>index</th>\n",
       "      <th>orderID</th>\n",
       "      <th>date</th>\n",
       "      <th>shipStatus</th>\n",
       "      <th>Fulfilment</th>\n",
       "      <th>serviceLevel</th>\n",
       "      <th>style</th>\n",
       "      <th>sku</th>\n",
       "      <th>productCategory</th>\n",
       "      <th>size</th>\n",
       "      <th>asin</th>\n",
       "      <th>courierStatus</th>\n",
       "      <th>orderQuantity</th>\n",
       "      <th>orderAmount (INR)</th>\n",
       "      <th>city</th>\n",
       "      <th>state</th>\n",
       "      <th>zip</th>\n",
       "      <th>promotion</th>\n",
       "      <th>customerType</th>\n",
       "    </tr>\n",
       "  </thead>\n",
       "  <tbody>\n",
       "  </tbody>\n",
       "</table>\n",
       "</div>"
      ],
      "text/plain": [
       "Empty DataFrame\n",
       "Columns: [index, orderID, date, shipStatus, Fulfilment, serviceLevel, style, sku, productCategory, size, asin, courierStatus, orderQuantity, orderAmount (INR), city, state, zip, promotion, customerType]\n",
       "Index: []"
      ]
     },
     "execution_count": 21,
     "metadata": {},
     "output_type": "execute_result"
    }
   ],
   "source": [
    "#the any() function combined with isnull() returns all of the rows that have a null value.\n",
    "null_set = amazon[amazon.isnull().any(axis = 1)]\n",
    "null_set.head()"
   ]
  },
  {
   "cell_type": "code",
   "execution_count": 22,
   "id": "573a5964",
   "metadata": {
    "execution": {
     "iopub.execute_input": "2023-07-30T17:11:17.243621Z",
     "iopub.status.busy": "2023-07-30T17:11:17.243202Z",
     "iopub.status.idle": "2023-07-30T17:11:17.352470Z",
     "shell.execute_reply": "2023-07-30T17:11:17.351405Z"
    },
    "papermill": {
     "duration": 0.139961,
     "end_time": "2023-07-30T17:11:17.354982",
     "exception": false,
     "start_time": "2023-07-30T17:11:17.215021",
     "status": "completed"
    },
    "tags": []
   },
   "outputs": [
    {
     "data": {
      "text/plain": [
       "index                0\n",
       "orderID              0\n",
       "date                 0\n",
       "shipStatus           0\n",
       "Fulfilment           0\n",
       "serviceLevel         0\n",
       "style                0\n",
       "sku                  0\n",
       "productCategory      0\n",
       "size                 0\n",
       "asin                 0\n",
       "courierStatus        0\n",
       "orderQuantity        0\n",
       "orderAmount (INR)    0\n",
       "city                 0\n",
       "state                0\n",
       "zip                  0\n",
       "promotion            0\n",
       "customerType         0\n",
       "dtype: int64"
      ]
     },
     "execution_count": 22,
     "metadata": {},
     "output_type": "execute_result"
    }
   ],
   "source": [
    "amazon.isnull().sum()"
   ]
  },
  {
   "cell_type": "markdown",
   "id": "7d4f0519",
   "metadata": {
    "papermill": {
     "duration": 0.026122,
     "end_time": "2023-07-30T17:11:17.408204",
     "exception": false,
     "start_time": "2023-07-30T17:11:17.382082",
     "status": "completed"
    },
    "tags": []
   },
   "source": [
    "No null row exsists"
   ]
  },
  {
   "cell_type": "code",
   "execution_count": 23,
   "id": "c03a35ff",
   "metadata": {
    "execution": {
     "iopub.execute_input": "2023-07-30T17:11:17.463562Z",
     "iopub.status.busy": "2023-07-30T17:11:17.463141Z",
     "iopub.status.idle": "2023-07-30T17:11:17.580333Z",
     "shell.execute_reply": "2023-07-30T17:11:17.579092Z"
    },
    "papermill": {
     "duration": 0.148184,
     "end_time": "2023-07-30T17:11:17.582976",
     "exception": false,
     "start_time": "2023-07-30T17:11:17.434792",
     "status": "completed"
    },
    "tags": []
   },
   "outputs": [
    {
     "name": "stdout",
     "output_type": "stream",
     "text": [
      "<class 'pandas.core.frame.DataFrame'>\n",
      "Int64Index: 128975 entries, 0 to 128974\n",
      "Data columns (total 19 columns):\n",
      " #   Column             Non-Null Count   Dtype  \n",
      "---  ------             --------------   -----  \n",
      " 0   index              128975 non-null  int64  \n",
      " 1   orderID            128975 non-null  object \n",
      " 2   date               128975 non-null  object \n",
      " 3   shipStatus         128975 non-null  object \n",
      " 4   Fulfilment         128975 non-null  object \n",
      " 5   serviceLevel       128975 non-null  object \n",
      " 6   style              128975 non-null  object \n",
      " 7   sku                128975 non-null  object \n",
      " 8   productCategory    128975 non-null  object \n",
      " 9   size               128975 non-null  object \n",
      " 10  asin               128975 non-null  object \n",
      " 11  courierStatus      128975 non-null  object \n",
      " 12  orderQuantity      128975 non-null  int64  \n",
      " 13  orderAmount (INR)  128975 non-null  float64\n",
      " 14  city               128975 non-null  object \n",
      " 15  state              128975 non-null  object \n",
      " 16  zip                128975 non-null  object \n",
      " 17  promotion          128975 non-null  object \n",
      " 18  customerType       128975 non-null  object \n",
      "dtypes: float64(1), int64(2), object(16)\n",
      "memory usage: 19.7+ MB\n"
     ]
    }
   ],
   "source": [
    "amazon.info()"
   ]
  },
  {
   "cell_type": "markdown",
   "id": "044fe27e",
   "metadata": {
    "papermill": {
     "duration": 0.034169,
     "end_time": "2023-07-30T17:11:17.652651",
     "exception": false,
     "start_time": "2023-07-30T17:11:17.618482",
     "status": "completed"
    },
    "tags": []
   },
   "source": [
    "<h2>3. Converting Datatypes</h2>"
   ]
  },
  {
   "cell_type": "markdown",
   "id": "1fa8d6f7",
   "metadata": {
    "papermill": {
     "duration": 0.026547,
     "end_time": "2023-07-30T17:11:17.706563",
     "exception": false,
     "start_time": "2023-07-30T17:11:17.680016",
     "status": "completed"
    },
    "tags": []
   },
   "source": [
    "<h2>Checking Data Types from Data Frames</h2>"
   ]
  },
  {
   "cell_type": "code",
   "execution_count": 24,
   "id": "0b4a5079",
   "metadata": {
    "execution": {
     "iopub.execute_input": "2023-07-30T17:11:17.763198Z",
     "iopub.status.busy": "2023-07-30T17:11:17.762759Z",
     "iopub.status.idle": "2023-07-30T17:11:17.769331Z",
     "shell.execute_reply": "2023-07-30T17:11:17.768136Z"
    },
    "papermill": {
     "duration": 0.038009,
     "end_time": "2023-07-30T17:11:17.771974",
     "exception": false,
     "start_time": "2023-07-30T17:11:17.733965",
     "status": "completed"
    },
    "tags": []
   },
   "outputs": [
    {
     "name": "stdout",
     "output_type": "stream",
     "text": [
      "index                  int64\n",
      "orderID               object\n",
      "date                  object\n",
      "shipStatus            object\n",
      "Fulfilment            object\n",
      "serviceLevel          object\n",
      "style                 object\n",
      "sku                   object\n",
      "productCategory       object\n",
      "size                  object\n",
      "asin                  object\n",
      "courierStatus         object\n",
      "orderQuantity          int64\n",
      "orderAmount (INR)    float64\n",
      "city                  object\n",
      "state                 object\n",
      "zip                   object\n",
      "promotion             object\n",
      "customerType          object\n",
      "dtype: object\n"
     ]
    }
   ],
   "source": [
    "print(amazon.dtypes)"
   ]
  },
  {
   "cell_type": "code",
   "execution_count": 25,
   "id": "6997b59e",
   "metadata": {
    "execution": {
     "iopub.execute_input": "2023-07-30T17:11:17.827673Z",
     "iopub.status.busy": "2023-07-30T17:11:17.827258Z",
     "iopub.status.idle": "2023-07-30T17:11:17.941884Z",
     "shell.execute_reply": "2023-07-30T17:11:17.940801Z"
    },
    "papermill": {
     "duration": 0.145267,
     "end_time": "2023-07-30T17:11:17.944421",
     "exception": false,
     "start_time": "2023-07-30T17:11:17.799154",
     "status": "completed"
    },
    "tags": []
   },
   "outputs": [
    {
     "name": "stdout",
     "output_type": "stream",
     "text": [
      "<class 'pandas.core.frame.DataFrame'>\n",
      "Int64Index: 128975 entries, 0 to 128974\n",
      "Data columns (total 19 columns):\n",
      " #   Column             Non-Null Count   Dtype  \n",
      "---  ------             --------------   -----  \n",
      " 0   index              128975 non-null  int64  \n",
      " 1   orderID            128975 non-null  object \n",
      " 2   date               128975 non-null  object \n",
      " 3   shipStatus         128975 non-null  object \n",
      " 4   Fulfilment         128975 non-null  object \n",
      " 5   serviceLevel       128975 non-null  object \n",
      " 6   style              128975 non-null  object \n",
      " 7   sku                128975 non-null  object \n",
      " 8   productCategory    128975 non-null  object \n",
      " 9   size               128975 non-null  object \n",
      " 10  asin               128975 non-null  object \n",
      " 11  courierStatus      128975 non-null  object \n",
      " 12  orderQuantity      128975 non-null  int64  \n",
      " 13  orderAmount (INR)  128975 non-null  float64\n",
      " 14  city               128975 non-null  object \n",
      " 15  state              128975 non-null  object \n",
      " 16  zip                128975 non-null  object \n",
      " 17  promotion          128975 non-null  object \n",
      " 18  customerType       128975 non-null  object \n",
      "dtypes: float64(1), int64(2), object(16)\n",
      "memory usage: 19.7+ MB\n"
     ]
    }
   ],
   "source": [
    "amazon.info()"
   ]
  },
  {
   "cell_type": "markdown",
   "id": "de56c903",
   "metadata": {
    "papermill": {
     "duration": 0.027331,
     "end_time": "2023-07-30T17:11:17.999843",
     "exception": false,
     "start_time": "2023-07-30T17:11:17.972512",
     "status": "completed"
    },
    "tags": []
   },
   "source": [
    "<h2>Datetime data loaded as String</h2>\n",
    "<p><b>As you can see that the column Date data type is object as string it shoould be converted to DateTime within the Dataframe</b></p> "
   ]
  },
  {
   "cell_type": "markdown",
   "id": "54860dff",
   "metadata": {
    "papermill": {
     "duration": 0.026499,
     "end_time": "2023-07-30T17:11:18.053704",
     "exception": false,
     "start_time": "2023-07-30T17:11:18.027205",
     "status": "completed"
    },
    "tags": []
   },
   "source": [
    "<h2>Converting Column Date data type from String to Datetime </h2>"
   ]
  },
  {
   "cell_type": "code",
   "execution_count": 26,
   "id": "de97a9ce",
   "metadata": {
    "execution": {
     "iopub.execute_input": "2023-07-30T17:11:18.109791Z",
     "iopub.status.busy": "2023-07-30T17:11:18.109378Z",
     "iopub.status.idle": "2023-07-30T17:11:18.163087Z",
     "shell.execute_reply": "2023-07-30T17:11:18.161883Z"
    },
    "papermill": {
     "duration": 0.08441,
     "end_time": "2023-07-30T17:11:18.165631",
     "exception": false,
     "start_time": "2023-07-30T17:11:18.081221",
     "status": "completed"
    },
    "tags": []
   },
   "outputs": [
    {
     "data": {
      "text/plain": [
       "0   2022-04-30\n",
       "1   2022-04-30\n",
       "2   2022-04-30\n",
       "3   2022-04-30\n",
       "Name: date, dtype: datetime64[ns]"
      ]
     },
     "execution_count": 26,
     "metadata": {},
     "output_type": "execute_result"
    }
   ],
   "source": [
    "#Converting String to Datetime\n",
    "amazon['date'] = pd.to_datetime(amazon['date'])\n",
    "amazon['date'].head(4)"
   ]
  },
  {
   "cell_type": "code",
   "execution_count": 27,
   "id": "9370b782",
   "metadata": {
    "execution": {
     "iopub.execute_input": "2023-07-30T17:11:18.223613Z",
     "iopub.status.busy": "2023-07-30T17:11:18.223208Z",
     "iopub.status.idle": "2023-07-30T17:11:18.331582Z",
     "shell.execute_reply": "2023-07-30T17:11:18.330657Z"
    },
    "papermill": {
     "duration": 0.14025,
     "end_time": "2023-07-30T17:11:18.333990",
     "exception": false,
     "start_time": "2023-07-30T17:11:18.193740",
     "status": "completed"
    },
    "tags": []
   },
   "outputs": [
    {
     "name": "stdout",
     "output_type": "stream",
     "text": [
      "<class 'pandas.core.frame.DataFrame'>\n",
      "Int64Index: 128975 entries, 0 to 128974\n",
      "Data columns (total 19 columns):\n",
      " #   Column             Non-Null Count   Dtype         \n",
      "---  ------             --------------   -----         \n",
      " 0   index              128975 non-null  int64         \n",
      " 1   orderID            128975 non-null  object        \n",
      " 2   date               128975 non-null  datetime64[ns]\n",
      " 3   shipStatus         128975 non-null  object        \n",
      " 4   Fulfilment         128975 non-null  object        \n",
      " 5   serviceLevel       128975 non-null  object        \n",
      " 6   style              128975 non-null  object        \n",
      " 7   sku                128975 non-null  object        \n",
      " 8   productCategory    128975 non-null  object        \n",
      " 9   size               128975 non-null  object        \n",
      " 10  asin               128975 non-null  object        \n",
      " 11  courierStatus      128975 non-null  object        \n",
      " 12  orderQuantity      128975 non-null  int64         \n",
      " 13  orderAmount (INR)  128975 non-null  float64       \n",
      " 14  city               128975 non-null  object        \n",
      " 15  state              128975 non-null  object        \n",
      " 16  zip                128975 non-null  object        \n",
      " 17  promotion          128975 non-null  object        \n",
      " 18  customerType       128975 non-null  object        \n",
      "dtypes: datetime64[ns](1), float64(1), int64(2), object(15)\n",
      "memory usage: 19.7+ MB\n"
     ]
    }
   ],
   "source": [
    "amazon.info()"
   ]
  },
  {
   "cell_type": "markdown",
   "id": "b539f1e8",
   "metadata": {
    "papermill": {
     "duration": 0.027251,
     "end_time": "2023-07-30T17:11:18.388734",
     "exception": false,
     "start_time": "2023-07-30T17:11:18.361483",
     "status": "completed"
    },
    "tags": []
   },
   "source": [
    "Column date datatye which was string has been converted to datetime. "
   ]
  },
  {
   "cell_type": "code",
   "execution_count": 28,
   "id": "00956ebd",
   "metadata": {
    "execution": {
     "iopub.execute_input": "2023-07-30T17:11:18.499643Z",
     "iopub.status.busy": "2023-07-30T17:11:18.499211Z",
     "iopub.status.idle": "2023-07-30T17:11:18.548002Z",
     "shell.execute_reply": "2023-07-30T17:11:18.546798Z"
    },
    "papermill": {
     "duration": 0.079788,
     "end_time": "2023-07-30T17:11:18.550414",
     "exception": false,
     "start_time": "2023-07-30T17:11:18.470626",
     "status": "completed"
    },
    "tags": []
   },
   "outputs": [
    {
     "data": {
      "text/html": [
       "<div>\n",
       "<style scoped>\n",
       "    .dataframe tbody tr th:only-of-type {\n",
       "        vertical-align: middle;\n",
       "    }\n",
       "\n",
       "    .dataframe tbody tr th {\n",
       "        vertical-align: top;\n",
       "    }\n",
       "\n",
       "    .dataframe thead th {\n",
       "        text-align: right;\n",
       "    }\n",
       "</style>\n",
       "<table border=\"1\" class=\"dataframe\">\n",
       "  <thead>\n",
       "    <tr style=\"text-align: right;\">\n",
       "      <th></th>\n",
       "      <th>index</th>\n",
       "      <th>orderID</th>\n",
       "      <th>date</th>\n",
       "      <th>shipStatus</th>\n",
       "      <th>Fulfilment</th>\n",
       "      <th>serviceLevel</th>\n",
       "      <th>style</th>\n",
       "      <th>sku</th>\n",
       "      <th>productCategory</th>\n",
       "      <th>size</th>\n",
       "      <th>asin</th>\n",
       "      <th>courierStatus</th>\n",
       "      <th>orderQuantity</th>\n",
       "      <th>orderAmount (INR)</th>\n",
       "      <th>city</th>\n",
       "      <th>state</th>\n",
       "      <th>zip</th>\n",
       "      <th>promotion</th>\n",
       "      <th>customerType</th>\n",
       "    </tr>\n",
       "  </thead>\n",
       "  <tbody>\n",
       "    <tr>\n",
       "      <th>0</th>\n",
       "      <td>0</td>\n",
       "      <td>405-8078784-5731545</td>\n",
       "      <td>2022-04-30</td>\n",
       "      <td>Cancelled</td>\n",
       "      <td>Merchant</td>\n",
       "      <td>Standard</td>\n",
       "      <td>SET389</td>\n",
       "      <td>SET389-KR-NP-S</td>\n",
       "      <td>Set</td>\n",
       "      <td>S</td>\n",
       "      <td>B09KXVBD7Z</td>\n",
       "      <td>unknown</td>\n",
       "      <td>0</td>\n",
       "      <td>647.6</td>\n",
       "      <td>MUMBAI</td>\n",
       "      <td>MAHARASHTRA</td>\n",
       "      <td>400081.0</td>\n",
       "      <td>no promotion</td>\n",
       "      <td>consumer</td>\n",
       "    </tr>\n",
       "    <tr>\n",
       "      <th>1</th>\n",
       "      <td>1</td>\n",
       "      <td>171-9198151-1101146</td>\n",
       "      <td>2022-04-30</td>\n",
       "      <td>Shipped - Delivered to Buyer</td>\n",
       "      <td>Merchant</td>\n",
       "      <td>Standard</td>\n",
       "      <td>JNE3781</td>\n",
       "      <td>JNE3781-KR-XXXL</td>\n",
       "      <td>kurta</td>\n",
       "      <td>3XL</td>\n",
       "      <td>B09K3WFS32</td>\n",
       "      <td>Shipped</td>\n",
       "      <td>1</td>\n",
       "      <td>406.0</td>\n",
       "      <td>BENGALURU</td>\n",
       "      <td>KARNATAKA</td>\n",
       "      <td>560085.0</td>\n",
       "      <td>Amazon PLCC Free-Financing Universal Merchant ...</td>\n",
       "      <td>consumer</td>\n",
       "    </tr>\n",
       "    <tr>\n",
       "      <th>2</th>\n",
       "      <td>2</td>\n",
       "      <td>404-0687676-7273146</td>\n",
       "      <td>2022-04-30</td>\n",
       "      <td>Shipped</td>\n",
       "      <td>Amazon</td>\n",
       "      <td>Expedited</td>\n",
       "      <td>JNE3371</td>\n",
       "      <td>JNE3371-KR-XL</td>\n",
       "      <td>kurta</td>\n",
       "      <td>XL</td>\n",
       "      <td>B07WV4JV4D</td>\n",
       "      <td>Shipped</td>\n",
       "      <td>1</td>\n",
       "      <td>329.0</td>\n",
       "      <td>NAVI MUMBAI</td>\n",
       "      <td>MAHARASHTRA</td>\n",
       "      <td>410210.0</td>\n",
       "      <td>IN Core Free Shipping 2015/04/08 23-48-5-108</td>\n",
       "      <td>business</td>\n",
       "    </tr>\n",
       "    <tr>\n",
       "      <th>3</th>\n",
       "      <td>3</td>\n",
       "      <td>403-9615377-8133951</td>\n",
       "      <td>2022-04-30</td>\n",
       "      <td>Cancelled</td>\n",
       "      <td>Merchant</td>\n",
       "      <td>Standard</td>\n",
       "      <td>J0341</td>\n",
       "      <td>J0341-DR-L</td>\n",
       "      <td>Western Dress</td>\n",
       "      <td>L</td>\n",
       "      <td>B099NRCT7B</td>\n",
       "      <td>unknown</td>\n",
       "      <td>0</td>\n",
       "      <td>753.3</td>\n",
       "      <td>PUDUCHERRY</td>\n",
       "      <td>PUDUCHERRY</td>\n",
       "      <td>605008.0</td>\n",
       "      <td>no promotion</td>\n",
       "      <td>consumer</td>\n",
       "    </tr>\n",
       "  </tbody>\n",
       "</table>\n",
       "</div>"
      ],
      "text/plain": [
       "   index              orderID       date                    shipStatus  \\\n",
       "0      0  405-8078784-5731545 2022-04-30                     Cancelled   \n",
       "1      1  171-9198151-1101146 2022-04-30  Shipped - Delivered to Buyer   \n",
       "2      2  404-0687676-7273146 2022-04-30                       Shipped   \n",
       "3      3  403-9615377-8133951 2022-04-30                     Cancelled   \n",
       "\n",
       "  Fulfilment serviceLevel    style              sku productCategory size  \\\n",
       "0   Merchant     Standard   SET389   SET389-KR-NP-S             Set    S   \n",
       "1   Merchant     Standard  JNE3781  JNE3781-KR-XXXL           kurta  3XL   \n",
       "2     Amazon    Expedited  JNE3371    JNE3371-KR-XL           kurta   XL   \n",
       "3   Merchant     Standard    J0341       J0341-DR-L   Western Dress    L   \n",
       "\n",
       "         asin courierStatus  orderQuantity  orderAmount (INR)         city  \\\n",
       "0  B09KXVBD7Z       unknown              0              647.6       MUMBAI   \n",
       "1  B09K3WFS32       Shipped              1              406.0    BENGALURU   \n",
       "2  B07WV4JV4D       Shipped              1              329.0  NAVI MUMBAI   \n",
       "3  B099NRCT7B       unknown              0              753.3   PUDUCHERRY   \n",
       "\n",
       "         state       zip                                          promotion  \\\n",
       "0  MAHARASHTRA  400081.0                                       no promotion   \n",
       "1    KARNATAKA  560085.0  Amazon PLCC Free-Financing Universal Merchant ...   \n",
       "2  MAHARASHTRA  410210.0       IN Core Free Shipping 2015/04/08 23-48-5-108   \n",
       "3   PUDUCHERRY  605008.0                                       no promotion   \n",
       "\n",
       "  customerType  \n",
       "0     consumer  \n",
       "1     consumer  \n",
       "2     business  \n",
       "3     consumer  "
      ]
     },
     "execution_count": 28,
     "metadata": {},
     "output_type": "execute_result"
    }
   ],
   "source": [
    "#The columns having float points nearer to be round upto 1 decimal places \n",
    "amazon = np.round(amazon, decimals = 1)\n",
    "amazon.head(4)"
   ]
  },
  {
   "cell_type": "markdown",
   "id": "010455a6",
   "metadata": {
    "papermill": {
     "duration": 0.027231,
     "end_time": "2023-07-30T17:11:18.605232",
     "exception": false,
     "start_time": "2023-07-30T17:11:18.578001",
     "status": "completed"
    },
    "tags": []
   },
   "source": [
    "The column \torderAmount (INR) has been rounded to 1 decimal places in a dataset."
   ]
  },
  {
   "cell_type": "code",
   "execution_count": 29,
   "id": "d97a91f3",
   "metadata": {
    "execution": {
     "iopub.execute_input": "2023-07-30T17:11:18.664719Z",
     "iopub.status.busy": "2023-07-30T17:11:18.663659Z",
     "iopub.status.idle": "2023-07-30T17:11:18.687834Z",
     "shell.execute_reply": "2023-07-30T17:11:18.686697Z"
    },
    "papermill": {
     "duration": 0.057729,
     "end_time": "2023-07-30T17:11:18.690340",
     "exception": false,
     "start_time": "2023-07-30T17:11:18.632611",
     "status": "completed"
    },
    "tags": []
   },
   "outputs": [
    {
     "data": {
      "text/html": [
       "<div>\n",
       "<style scoped>\n",
       "    .dataframe tbody tr th:only-of-type {\n",
       "        vertical-align: middle;\n",
       "    }\n",
       "\n",
       "    .dataframe tbody tr th {\n",
       "        vertical-align: top;\n",
       "    }\n",
       "\n",
       "    .dataframe thead th {\n",
       "        text-align: right;\n",
       "    }\n",
       "</style>\n",
       "<table border=\"1\" class=\"dataframe\">\n",
       "  <thead>\n",
       "    <tr style=\"text-align: right;\">\n",
       "      <th></th>\n",
       "      <th>index</th>\n",
       "      <th>date</th>\n",
       "      <th>shipStatus</th>\n",
       "      <th>Fulfilment</th>\n",
       "      <th>serviceLevel</th>\n",
       "      <th>style</th>\n",
       "      <th>sku</th>\n",
       "      <th>productCategory</th>\n",
       "      <th>size</th>\n",
       "      <th>asin</th>\n",
       "      <th>courierStatus</th>\n",
       "      <th>orderQuantity</th>\n",
       "      <th>orderAmount (INR)</th>\n",
       "      <th>city</th>\n",
       "      <th>state</th>\n",
       "      <th>zip</th>\n",
       "      <th>promotion</th>\n",
       "      <th>customerType</th>\n",
       "    </tr>\n",
       "    <tr>\n",
       "      <th>orderID</th>\n",
       "      <th></th>\n",
       "      <th></th>\n",
       "      <th></th>\n",
       "      <th></th>\n",
       "      <th></th>\n",
       "      <th></th>\n",
       "      <th></th>\n",
       "      <th></th>\n",
       "      <th></th>\n",
       "      <th></th>\n",
       "      <th></th>\n",
       "      <th></th>\n",
       "      <th></th>\n",
       "      <th></th>\n",
       "      <th></th>\n",
       "      <th></th>\n",
       "      <th></th>\n",
       "      <th></th>\n",
       "    </tr>\n",
       "  </thead>\n",
       "  <tbody>\n",
       "    <tr>\n",
       "      <th>405-8078784-5731545</th>\n",
       "      <td>0</td>\n",
       "      <td>2022-04-30</td>\n",
       "      <td>Cancelled</td>\n",
       "      <td>Merchant</td>\n",
       "      <td>Standard</td>\n",
       "      <td>SET389</td>\n",
       "      <td>SET389-KR-NP-S</td>\n",
       "      <td>Set</td>\n",
       "      <td>S</td>\n",
       "      <td>B09KXVBD7Z</td>\n",
       "      <td>unknown</td>\n",
       "      <td>0</td>\n",
       "      <td>647.6</td>\n",
       "      <td>MUMBAI</td>\n",
       "      <td>MAHARASHTRA</td>\n",
       "      <td>400081.0</td>\n",
       "      <td>no promotion</td>\n",
       "      <td>consumer</td>\n",
       "    </tr>\n",
       "    <tr>\n",
       "      <th>171-9198151-1101146</th>\n",
       "      <td>1</td>\n",
       "      <td>2022-04-30</td>\n",
       "      <td>Shipped - Delivered to Buyer</td>\n",
       "      <td>Merchant</td>\n",
       "      <td>Standard</td>\n",
       "      <td>JNE3781</td>\n",
       "      <td>JNE3781-KR-XXXL</td>\n",
       "      <td>kurta</td>\n",
       "      <td>3XL</td>\n",
       "      <td>B09K3WFS32</td>\n",
       "      <td>Shipped</td>\n",
       "      <td>1</td>\n",
       "      <td>406.0</td>\n",
       "      <td>BENGALURU</td>\n",
       "      <td>KARNATAKA</td>\n",
       "      <td>560085.0</td>\n",
       "      <td>Amazon PLCC Free-Financing Universal Merchant ...</td>\n",
       "      <td>consumer</td>\n",
       "    </tr>\n",
       "    <tr>\n",
       "      <th>404-0687676-7273146</th>\n",
       "      <td>2</td>\n",
       "      <td>2022-04-30</td>\n",
       "      <td>Shipped</td>\n",
       "      <td>Amazon</td>\n",
       "      <td>Expedited</td>\n",
       "      <td>JNE3371</td>\n",
       "      <td>JNE3371-KR-XL</td>\n",
       "      <td>kurta</td>\n",
       "      <td>XL</td>\n",
       "      <td>B07WV4JV4D</td>\n",
       "      <td>Shipped</td>\n",
       "      <td>1</td>\n",
       "      <td>329.0</td>\n",
       "      <td>NAVI MUMBAI</td>\n",
       "      <td>MAHARASHTRA</td>\n",
       "      <td>410210.0</td>\n",
       "      <td>IN Core Free Shipping 2015/04/08 23-48-5-108</td>\n",
       "      <td>business</td>\n",
       "    </tr>\n",
       "    <tr>\n",
       "      <th>403-9615377-8133951</th>\n",
       "      <td>3</td>\n",
       "      <td>2022-04-30</td>\n",
       "      <td>Cancelled</td>\n",
       "      <td>Merchant</td>\n",
       "      <td>Standard</td>\n",
       "      <td>J0341</td>\n",
       "      <td>J0341-DR-L</td>\n",
       "      <td>Western Dress</td>\n",
       "      <td>L</td>\n",
       "      <td>B099NRCT7B</td>\n",
       "      <td>unknown</td>\n",
       "      <td>0</td>\n",
       "      <td>753.3</td>\n",
       "      <td>PUDUCHERRY</td>\n",
       "      <td>PUDUCHERRY</td>\n",
       "      <td>605008.0</td>\n",
       "      <td>no promotion</td>\n",
       "      <td>consumer</td>\n",
       "    </tr>\n",
       "  </tbody>\n",
       "</table>\n",
       "</div>"
      ],
      "text/plain": [
       "                     index       date                    shipStatus  \\\n",
       "orderID                                                               \n",
       "405-8078784-5731545      0 2022-04-30                     Cancelled   \n",
       "171-9198151-1101146      1 2022-04-30  Shipped - Delivered to Buyer   \n",
       "404-0687676-7273146      2 2022-04-30                       Shipped   \n",
       "403-9615377-8133951      3 2022-04-30                     Cancelled   \n",
       "\n",
       "                    Fulfilment serviceLevel    style              sku  \\\n",
       "orderID                                                                 \n",
       "405-8078784-5731545   Merchant     Standard   SET389   SET389-KR-NP-S   \n",
       "171-9198151-1101146   Merchant     Standard  JNE3781  JNE3781-KR-XXXL   \n",
       "404-0687676-7273146     Amazon    Expedited  JNE3371    JNE3371-KR-XL   \n",
       "403-9615377-8133951   Merchant     Standard    J0341       J0341-DR-L   \n",
       "\n",
       "                    productCategory size        asin courierStatus  \\\n",
       "orderID                                                              \n",
       "405-8078784-5731545             Set    S  B09KXVBD7Z       unknown   \n",
       "171-9198151-1101146           kurta  3XL  B09K3WFS32       Shipped   \n",
       "404-0687676-7273146           kurta   XL  B07WV4JV4D       Shipped   \n",
       "403-9615377-8133951   Western Dress    L  B099NRCT7B       unknown   \n",
       "\n",
       "                     orderQuantity  orderAmount (INR)         city  \\\n",
       "orderID                                                              \n",
       "405-8078784-5731545              0              647.6       MUMBAI   \n",
       "171-9198151-1101146              1              406.0    BENGALURU   \n",
       "404-0687676-7273146              1              329.0  NAVI MUMBAI   \n",
       "403-9615377-8133951              0              753.3   PUDUCHERRY   \n",
       "\n",
       "                           state       zip  \\\n",
       "orderID                                      \n",
       "405-8078784-5731545  MAHARASHTRA  400081.0   \n",
       "171-9198151-1101146    KARNATAKA  560085.0   \n",
       "404-0687676-7273146  MAHARASHTRA  410210.0   \n",
       "403-9615377-8133951   PUDUCHERRY  605008.0   \n",
       "\n",
       "                                                             promotion  \\\n",
       "orderID                                                                  \n",
       "405-8078784-5731545                                       no promotion   \n",
       "171-9198151-1101146  Amazon PLCC Free-Financing Universal Merchant ...   \n",
       "404-0687676-7273146       IN Core Free Shipping 2015/04/08 23-48-5-108   \n",
       "403-9615377-8133951                                       no promotion   \n",
       "\n",
       "                    customerType  \n",
       "orderID                           \n",
       "405-8078784-5731545     consumer  \n",
       "171-9198151-1101146     consumer  \n",
       "404-0687676-7273146     business  \n",
       "403-9615377-8133951     consumer  "
      ]
     },
     "execution_count": 29,
     "metadata": {},
     "output_type": "execute_result"
    }
   ],
   "source": [
    "#Placing orderID in first column\n",
    "amazon.set_index('orderID', inplace = True)\n",
    "amazon.head(4)"
   ]
  },
  {
   "cell_type": "code",
   "execution_count": 30,
   "id": "6e718556",
   "metadata": {
    "execution": {
     "iopub.execute_input": "2023-07-30T17:11:18.803937Z",
     "iopub.status.busy": "2023-07-30T17:11:18.803517Z",
     "iopub.status.idle": "2023-07-30T17:11:18.903925Z",
     "shell.execute_reply": "2023-07-30T17:11:18.903076Z"
    },
    "papermill": {
     "duration": 0.132441,
     "end_time": "2023-07-30T17:11:18.906402",
     "exception": false,
     "start_time": "2023-07-30T17:11:18.773961",
     "status": "completed"
    },
    "tags": []
   },
   "outputs": [
    {
     "data": {
      "text/plain": [
       "index                0\n",
       "date                 0\n",
       "shipStatus           0\n",
       "Fulfilment           0\n",
       "serviceLevel         0\n",
       "style                0\n",
       "sku                  0\n",
       "productCategory      0\n",
       "size                 0\n",
       "asin                 0\n",
       "courierStatus        0\n",
       "orderQuantity        0\n",
       "orderAmount (INR)    0\n",
       "city                 0\n",
       "state                0\n",
       "zip                  0\n",
       "promotion            0\n",
       "customerType         0\n",
       "dtype: int64"
      ]
     },
     "execution_count": 30,
     "metadata": {},
     "output_type": "execute_result"
    }
   ],
   "source": [
    "#Checking null values in eack column\n",
    "amazon.isnull().sum()"
   ]
  },
  {
   "cell_type": "markdown",
   "id": "d10f10a6",
   "metadata": {
    "papermill": {
     "duration": 0.027693,
     "end_time": "2023-07-30T17:11:19.619188",
     "exception": false,
     "start_time": "2023-07-30T17:11:19.591495",
     "status": "completed"
    },
    "tags": []
   },
   "source": [
    "# Conclusion\n",
    "\n",
    "1. Imputed the null values\n",
    "\n",
    "2. Removed duplicate values in the dataset\n",
    "\n",
    "3. Date data type was assigned to the date column"
   ]
  },
  {
   "cell_type": "markdown",
   "id": "a3c18536",
   "metadata": {
    "papermill": {
     "duration": 0.027192,
     "end_time": "2023-07-30T17:11:19.673852",
     "exception": false,
     "start_time": "2023-07-30T17:11:19.646660",
     "status": "completed"
    },
    "tags": []
   },
   "source": [
    "<h1>Now the Dataframe is set for analysis phase</h1>"
   ]
  },
  {
   "cell_type": "code",
   "execution_count": 31,
   "id": "c0bf52b4",
   "metadata": {},
   "outputs": [],
   "source": [
    "amazon.to_csv(r'D:\\Great Lakes\\Residency\\Other Projects\\Sales\\Cleaned Ecommerce Dataset.csv')"
   ]
  }
 ],
 "metadata": {
  "kernelspec": {
   "display_name": "Python 3 (ipykernel)",
   "language": "python",
   "name": "python3"
  },
  "language_info": {
   "codemirror_mode": {
    "name": "ipython",
    "version": 3
   },
   "file_extension": ".py",
   "mimetype": "text/x-python",
   "name": "python",
   "nbconvert_exporter": "python",
   "pygments_lexer": "ipython3",
   "version": "3.10.9"
  },
  "papermill": {
   "default_parameters": {},
   "duration": 20.848175,
   "end_time": "2023-07-30T17:11:20.423090",
   "environment_variables": {},
   "exception": null,
   "input_path": "__notebook__.ipynb",
   "output_path": "__notebook__.ipynb",
   "parameters": {},
   "start_time": "2023-07-30T17:10:59.574915",
   "version": "2.3.4"
  }
 },
 "nbformat": 4,
 "nbformat_minor": 5
}
